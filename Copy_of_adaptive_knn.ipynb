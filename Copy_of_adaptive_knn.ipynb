{
  "nbformat": 4,
  "nbformat_minor": 0,
  "metadata": {
    "colab": {
      "provenance": [],
      "include_colab_link": true
    },
    "kernelspec": {
      "name": "python3",
      "display_name": "Python 3"
    },
    "language_info": {
      "name": "python"
    }
  },
  "cells": [
    {
      "cell_type": "markdown",
      "metadata": {
        "id": "view-in-github",
        "colab_type": "text"
      },
      "source": [
        "<a href=\"https://colab.research.google.com/github/holly-hewitt/ML-Practical-Coursework/blob/main/Copy_of_adaptive_knn.ipynb\" target=\"_parent\"><img src=\"https://colab.research.google.com/assets/colab-badge.svg\" alt=\"Open In Colab\"/></a>"
      ]
    },
    {
      "cell_type": "markdown",
      "source": [
        "## Coursework 2 (Practical) for COMPSCI4061 / COMPSCI5014 Machine Learning H / M - 2023-24\n",
        "\n",
        "### Problem Statement\n",
        "\n",
        "The explicit task description for this assignment is at the bottom of this notebook.\n",
        "\n",
        "In this assignment, we are going to explore an adaptive K-NN classifier. Usually, for K-NN classification (which is a non-parametric approach), we work with a fixed value of $k$. After storing the data instances and the labels, during the inference time for each point, we get its $k$-neighborhood and predict the majority label from its neighborhood as the label of the current point.\n",
        "\n",
        "In this report, we are going to investigate if a variable $k$ (the value of which depends on the data instance) performs better than a static choice of $k$.\n",
        "\n",
        "We are going to implement two different approaches - one based on heuristics, and the other based on a supervised parametric classifier that predicts the value of $k$ given a data instance."
      ],
      "metadata": {
        "id": "9as8OW5--yyp"
      }
    },
    {
      "cell_type": "markdown",
      "source": [
        "The following block of code downloads and prepares the dataset to be used. It also shows some sample images from the training set."
      ],
      "metadata": {
        "id": "jkG2Tt2q_ALd"
      }
    },
    {
      "cell_type": "code",
      "source": [
        "import numpy as np\n",
        "from tensorflow import keras\n",
        "from tensorflow.keras import layers\n",
        "import random\n",
        "\n",
        "# Model / data parameters\n",
        "num_classes = 10\n",
        "input_shape = (28, 28, 1)\n",
        "\n",
        "# Load the data and split it between train and test sets\n",
        "(x_train, y_train), (x_test, y_test) = keras.datasets.mnist.load_data()\n",
        "\n",
        "\n",
        "from matplotlib import pyplot\n",
        "for i in range(9):\n",
        "  pyplot.subplot(330 + 1 + i)\n",
        "  pyplot.imshow(x_train[i], cmap=pyplot.get_cmap('gray'))\n",
        "\n",
        "pyplot.show()\n",
        "\n",
        "\n",
        "# Scale images to the [0, 1] range\n",
        "x_train = x_train.astype(\"float32\") / 255\n",
        "x_test = x_test.astype(\"float32\") / 255\n",
        "\n",
        "# Make sure images have shape (28, 28, 1)\n",
        "x_train = np.expand_dims(x_train, -1)\n",
        "x_test = np.expand_dims(x_test, -1)\n",
        "\n",
        "x_train = x_train.reshape(x_train.shape[0], 784)\n",
        "x_test = x_test.reshape(x_test.shape[0], 784)\n",
        "y_train = y_train.reshape(y_train.shape[0], 1)\n",
        "y_test = y_test.reshape(y_test.shape[0], 1)\n",
        "\n",
        "NUM_TRAIN_SAMPLES = x_train.shape[0]\n",
        "NUM_TEST_SAMPLES = x_test.shape[0]\n",
        "\n",
        "print(\"Train samples: {} {}\".format(x_train.shape, y_train.shape))\n",
        "print(\"Test samples: {} {}\".format(x_test.shape, y_test.shape))\n",
        "\n",
        "# We conduct all the evaluation on a *small subset* of the test data\n",
        "EVAL_SUBSET_SIZE = 100\n",
        "eval_ids = np.random.randint(NUM_TEST_SAMPLES, size=EVAL_SUBSET_SIZE)\n",
        "x_test = x_test[eval_ids,:]\n",
        "y_test = y_test[eval_ids,:]\n",
        "\n",
        "print(\"Evaluation set: {}\".format(x_test.shape))\n",
        "\n",
        "NUM_TRAIN_SAMPLES = x_train.shape[0]\n",
        "NUM_TEST_SAMPLES = x_test.shape[0]\n",
        "y_train = y_train.ravel()\n",
        "y_test = y_test.ravel()\n",
        "\n",
        "print(\"Train samples: {} {}\".format(x_train.shape, y_train.shape))\n",
        "print(\"Test samples: {} {}\".format(x_test.shape, y_test.shape))"
      ],
      "metadata": {
        "colab": {
          "base_uri": "https://localhost:8080/",
          "height": 574
        },
        "id": "s5WQjSG5-rvo",
        "outputId": "af5c3b2e-d572-40f3-d04e-0a3b52cb6167"
      },
      "execution_count": 2,
      "outputs": [
        {
          "output_type": "stream",
          "name": "stdout",
          "text": [
            "Downloading data from https://storage.googleapis.com/tensorflow/tf-keras-datasets/mnist.npz\n",
            "11490434/11490434 [==============================] - 0s 0us/step\n"
          ]
        },
        {
          "output_type": "display_data",
          "data": {
            "text/plain": [
              "<Figure size 640x480 with 9 Axes>"
            ],
            "image/png": "[encoded data removed]"
          },
          "metadata": {}
        },
        {
          "output_type": "stream",
          "name": "stdout",
          "text": [
            "Train samples: (60000, 784) (60000, 1)\n",
            "Test samples: (10000, 784) (10000, 1)\n",
            "Evaluation set: (100, 784)\n",
            "Train samples: (60000, 784) (60000,)\n",
            "Test samples: (100, 784) (100,)\n"
          ]
        }
      ]
    },
    {
      "cell_type": "markdown",
      "source": [
        "#### Learning with noisy labels\n",
        "\n",
        "To demonstrate the necessity of the adaptive approach, we simulate noisy data by introducing the common mistakes.\n",
        "For instance, we randomly change 3-->8, 8-->3, 1-->{4, 7}, 5-->6 etc.\n",
        "\n",
        "The amount of noise injected as a part of this stochastic process is controlled by the paramater **noise_probability** ($\\in [0, 1]$).\n"
      ],
      "metadata": {
        "id": "kP28ZG1s_R3E"
      }
    },
    {
      "cell_type": "code",
      "source": [
        "import random\n",
        "noise_probability = 0.7\n",
        "\n",
        "def corrupt_label(y, err):\n",
        "    found = np.where(err == y)\n",
        "    if len(found) > 0:\n",
        "        # select an element at random (index != found)\n",
        "        noisy_label = random.choice(err)\n",
        "        while noisy_label == y:\n",
        "            noisy_label = random.choice(err)\n",
        "        return noisy_label\n",
        "    return y\n",
        "\n",
        "# We corrupt the MNIST data with some common mistakes, such as 3-->8, 8-->3, 1-->{4, 7}, 5-->6 etc.\n",
        "def corrupt_labels(y_train, noise_probability):\n",
        "    num_samples = y_train.shape[0]\n",
        "    err_es_1 = np.array([0, 2, 3, 5, 6, 8, 9])\n",
        "    err_es_2 = np.array([1, 4, 7])\n",
        "\n",
        "    corruptions = {}\n",
        "    corrupted_indexes = {}\n",
        "\n",
        "    for i in range(num_samples):\n",
        "        p = random.random()\n",
        "\n",
        "        if p < noise_probability:\n",
        "            y = y_train[i]\n",
        "            y_noisy = corrupt_label(y, err_es_1)\n",
        "            if y_noisy == y:\n",
        "                y_noisy = corrupt_label(y, err_es_2)\n",
        "\n",
        "            key = str(y_train[i]) + '->' + str(y_noisy)\n",
        "            corrupted_indexes[i] = i\n",
        "\n",
        "            if key in corruptions:\n",
        "                corruptions[key] += 1\n",
        "            else:\n",
        "                corruptions[key] = 0\n",
        "\n",
        "            y_train[i] = y_noisy\n",
        "\n",
        "    return corruptions, corrupted_indexes\n",
        "\n",
        "corruptions, corrupted_indexes = corrupt_labels(y_train, noise_probability)\n",
        "print (\"Corruptions: \" + str(corruptions))\n",
        "print (\"Corrupted indexes: {}\".format(list(corrupted_indexes.keys())[0:10]))\n"
      ],
      "metadata": {
        "id": "_gQF7tFB-7qr",
        "colab": {
          "base_uri": "https://localhost:8080/"
        },
        "outputId": "3ed8d9af-be26-4ae0-e147-2d7f1ffcbb82"
      },
      "execution_count": 3,
      "outputs": [
        {
          "output_type": "stream",
          "name": "stdout",
          "text": [
            "Corruptions: {'5->3': 646, '0->9': 659, '4->9': 565, '1->6': 646, '9->3': 720, '2->8': 689, '3->0': 698, '1->5': 676, '3->9': 732, '5->9': 635, '1->8': 677, '7->5': 595, '2->6': 671, '8->9': 720, '6->2': 715, '9->8': 658, '4->5': 580, '3->8': 739, '7->6': 642, '8->5': 694, '9->5': 690, '0->2': 658, '6->9': 691, '3->6': 723, '7->3': 638, '4->0': 592, '9->6': 693, '0->6': 729, '4->8': 584, '0->5': 715, '5->2': 640, '1->2': 676, '6->5': 663, '0->3': 682, '1->0': 722, '7->9': 612, '8->6': 619, '7->8': 569, '0->8': 707, '2->3': 672, '3->2': 667, '1->9': 658, '2->5': 673, '4->3': 575, '7->0': 654, '8->0': 727, '4->2': 590, '6->3': 671, '3->5': 758, '8->3': 683, '1->3': 683, '7->2': 639, '6->8': 694, '5->6': 619, '2->0': 757, '8->2': 715, '9->2': 704, '6->0': 737, '9->0': 684, '5->8': 639, '4->6': 597, '5->0': 637, '2->9': 689}\n",
            "Corrupted indexes: [0, 1, 2, 3, 4, 5, 7, 8, 10, 11]\n"
          ]
        }
      ]
    },
    {
      "cell_type": "markdown",
      "source": [
        "### Standard K-NN on this noisy data\n",
        "\n",
        "We now execute static k-NN on this noisy data. The effectiveness of the classifier is very poor (for your own understanding, try to see why; note that answering this is not an actionable item and hence isn't graded)."
      ],
      "metadata": {
        "id": "4QxFM4BK_cUR"
      }
    },
    {
      "cell_type": "code",
      "source": [
        "K = 3\n",
        "\n",
        "from sklearn.metrics import accuracy_score\n",
        "from sklearn.neighbors import KNeighborsClassifier\n",
        "model = KNeighborsClassifier(n_neighbors=K)\n",
        "model.fit(x_train, y_train)\n",
        "\n",
        "print (\"{}-NN model fitted\".format(K))\n",
        "\n",
        "y_preds = model.predict(x_test)\n",
        "print (\"K-NN model accuracy with k={}: {:.4f}\".format(K, accuracy_score(y_test, y_preds)))"
      ],
      "metadata": {
        "colab": {
          "base_uri": "https://localhost:8080/"
        },
        "id": "I8SaJ0Wf_c6-",
        "outputId": "f8e15908-6f1e-4cf4-c3bf-a62e23d2515f"
      },
      "execution_count": 4,
      "outputs": [
        {
          "output_type": "stream",
          "name": "stdout",
          "text": [
            "3-NN model fitted\n",
            "K-NN model accuracy with k=3: 0.2200\n"
          ]
        }
      ]
    },
    {
      "cell_type": "markdown",
      "source": [
        "We now would implement a simple unsupervised (heuristic-based) method to predict if we need a large or a small value of $k$ for a correct classification. Recall from the lecture notes that a dense neighborhood perhaps would be better served with a large value of $k$, whereas a relatively less compact neighborhood may do well with a small $k$. A sample function to estimate the quality of a neighborhood is the variance of the distances of the neighborhood points, i.e.,\n",
        "\n",
        "$$\\phi(N_k(\\mathbf{x})) = \\sum_{z \\in N_k(\\mathbf{x})} (d(\\mathbf{x},\\mathbf{z}) - \\mu)^2, \\text{where}\\,\\,\\,\\,\\mu=\\sum_{z \\in N_k(\\mathbf{x})} d(\\mathbf{x},\\mathbf{z}).$$\n",
        "\n",
        "Notations:\n",
        " * $\\mathbf{x}$: A data instance for inference.\n",
        " * $N_k(\\mathbf{x})$: A neighborhood of size $k$ around the data instance for inference.\n",
        " * $d(\\mathbf{x},\\mathbf{z})$: Distance (Euclidean or cosine or any other) between the test point $\\mathbf{x}$ and a training point $\\mathbf{z}$.\n",
        " * $\\mu$: The average of the distances of the neighboring training points from the test point.   \n",
        "\n",
        "\n",
        "Again for your own understanding, try to see wheether it makes sense to argue that the higher the variance, the less compact is the neighborhood, and perhaps we want a smaller $k$ for such ones? (no actionable item and no grading for finding this answer)\n",
        "\n",
        "Our task is now to write the function *predict_k_values_unsupervised*."
      ],
      "metadata": {
        "id": "D8iY-JKl_ib8"
      }
    },
    {
      "cell_type": "code",
      "source": [
        "import math\n",
        "\n",
        "# Takes the test set and an index of nearest neighbors.\n",
        "# Iterates over each point, computes the variance of distances, scales that into the range [1, MAX_K]\n",
        "# and returns a list of adaptively chosen K values (one for each instance).\n",
        "def predict_k_values_unsupervised(x_test, nn_index):\n",
        "    n = x_test.shape[0]\n",
        "    variances = []\n",
        "    for i in range(n):\n",
        "        x = x_test[i]\n",
        "        distances, ids = nn_index.kneighbors([x], return_distance=True)\n",
        "        variances.append(np.var(distances))\n",
        "\n",
        "    min_v = min(variances)\n",
        "    max_v = max(variances)\n",
        "\n",
        "    k_values = [1 + math.floor((MAX_K-1) * (float(var) - min_v)/(max_v - min_v)) for var in variances]\n",
        "    return k_values"
      ],
      "metadata": {
        "id": "MZtwR_27_sKH"
      },
      "execution_count": 5,
      "outputs": []
    },
    {
      "cell_type": "code",
      "source": [
        "# For adaptively choosing $k$ we need to set an upper bound (the lower bound being 1).\n",
        "MAX_K = 20\n",
        "\n",
        "from sklearn.neighbors import NearestNeighbors\n",
        "\n",
        "def adaptive_knn(x_test, y_test):\n",
        "\n",
        "    # Build the index so that we retrieve the neighborhoods faster\n",
        "    nn_index = NearestNeighbors(n_neighbors=MAX_K).fit(x_train)\n",
        "\n",
        "    #print (\"{}-NN index built\".format(MAX_K))\n",
        "\n",
        "    # Dynamic k workflow\n",
        "    k_values = predict_k_values_unsupervised(x_test, nn_index)\n",
        "    y_preds = []\n",
        "\n",
        "    for i in range(len(x_test)):\n",
        "        k = k_values[i]\n",
        "\n",
        "        #print (\"Predicting with nn-size = {}\".format(k))\n",
        "        x = x_test[i]\n",
        "        distances, ids = nn_index.kneighbors([x])\n",
        "        ids = ids.flatten()\n",
        "\n",
        "        ids = ids[:k] # take the first k (out of MAX_K)\n",
        "        nn_labels = []\n",
        "        for x_id in ids:\n",
        "            nn_labels.append(y_train[x_id])\n",
        "\n",
        "        y_pred = max(set(nn_labels), key=nn_labels.count)\n",
        "        y_preds.append(y_pred)\n",
        "\n",
        "    accuracy = accuracy_score(y_test, y_preds)\n",
        "    return accuracy"
      ],
      "metadata": {
        "id": "0gAwOBwO_tc6"
      },
      "execution_count": 30,
      "outputs": []
    },
    {
      "cell_type": "code",
      "source": [],
      "metadata": {
        "id": "A7qOhFSuYh3u"
      },
      "execution_count": 6,
      "outputs": []
    },
    {
      "cell_type": "code",
      "source": [
        "accuracy = adaptive_knn(x_test, y_test)\n",
        "print (\"Adaptive K-NN model accuracy: {:.4f}\".format(accuracy))"
      ],
      "metadata": {
        "colab": {
          "base_uri": "https://localhost:8080/"
        },
        "id": "h7qLhANG_ylT",
        "outputId": "9e3a7d49-3602-4959-f506-e5a0df9fdc26"
      },
      "execution_count": 7,
      "outputs": [
        {
          "output_type": "stream",
          "name": "stdout",
          "text": [
            "20-NN index built\n",
            "Adaptive K-NN model accuracy: 0.2800\n"
          ]
        }
      ]
    },
    {
      "cell_type": "code",
      "source": [],
      "metadata": {
        "id": "ZaSlSDtvcKpR"
      },
      "execution_count": 7,
      "outputs": []
    },
    {
      "cell_type": "markdown",
      "source": [
        "#### Tasks: Investigate if we can do better than the heuristics.\n",
        "\n",
        "We now seek to learn a function of the form $\\theta: \\mathbf{x} \\mapsto \\mathbb{Z}_k$ (e.g., via $k$-class softmax regression or an SVM or any other parametric classifier).\n",
        "\n",
        "**Task 1 (30 marks)**: Replace the function *predict_k_values_unsupervised* with another function *predict_k_values_supervised* which will do the following:\n",
        "- Learn a mapping between a data instance from the training set and the smallest value of $k$ that results in correct predictions for that instance. In your report, clearly describe how do you train this classifier (e.g., what are the ground-truth y values for each training data point $\\mathbf{x} \\in S_{train}$.    \n",
        "- Apply this paramateric model to *predict* the value of $k$ at inference time (for this you just need to replace the call to **predict_k_values_unsupervised** inside **adaptive_knn** with your implemented method).\n",
        "\n",
        "**Task 2 (30 marks)**: Compare the performance of your implemented supervised approach vs. the baseline (unsupervised one) for different simulated datasets with varying amounts of noise. Make a plot with *noise_probability* on the x-axis and accuracy on the y-axis for 11 different values - {0, 0.1, ... 0.9, 1}.\n",
        "\n",
        "**Task 3 (40 marks)**: Write a commentary on the observations reflecting on your approach (e.g., on the assumptions you make, on the hyper-parameter choices for your method etc.) and figuring out **when and why it works** (e.g., for what hyper-parameter settings), and **when and why it doesn't**.\n",
        "  - 3(a): Clear description of the assumptions, the experiment settings (e.g., different levels of noises) and hyper-parameters of your approach (e.g., learning rate or regularisation constant of softmax regression) (10 marks).\n",
        "  - 3(b): Sensitivity analysis of the hyper-parameters (ideally should be demonsrated with plots of results) (15 marks).\n",
        "  - 3(c): Your observations and conclusions on per-instance error analysis, e.g., what happens in different types (different levels of compactness or homogeneity) of neighborhoods (15 marks).\n"
      ],
      "metadata": {
        "id": "WIsAcfjE_2yU"
      }
    },
    {
      "cell_type": "markdown",
      "source": [
        "# Task 1"
      ],
      "metadata": {
        "id": "dSlb_0HYAD4B"
      }
    },
    {
      "cell_type": "code",
      "source": [
        "# Function to generate ground truth k values\n",
        "def gen_k_ground_truth(x_test, y_test, x_train, y_train, subsample_fraction = 0.1):\n",
        "    # Use a subsample of the training data to build the k-NN index\n",
        "    subsample_size = int(len(x_train) * subsample_fraction)\n",
        "    subsample_indices = np.random.choice(len(x_train), subsample_size, replace=False)\n",
        "    x_train_subsample = x_train[subsample_indices]\n",
        "    y_train_subsample = y_train[subsample_indices]\n",
        "    nn_index = NearestNeighbors(n_neighbors=len(x_train_subsample)).fit(x_train_subsample)\n",
        "\n",
        "    print(\"{}-NN index built with a subsample of {} training instances\".format(len(x_train_subsample), subsample_size))\n",
        "\n",
        "    # Use a subsample of the test dataset to generate ground truth values for k\n",
        "    subsample_size = int(len(x_test) * subsample_fraction)\n",
        "    subsample_indices = np.random.choice(len(x_test), subsample_size, replace=False)\n",
        "    x_test_subsample = x_test[subsample_indices]\n",
        "    y_test_subsample = y_test[subsample_indices]\n",
        "\n",
        "    k_values = []\n",
        "    print(len(x_test_subsample))\n",
        "\n",
        "    for i in range(len(x_test_subsample)):\n",
        "\n",
        "\n",
        "        x = x_test_subsample[i]\n",
        "        y = y_test_subsample[i]\n",
        "\n",
        "        distances, ids = nn_index.kneighbors([x])\n",
        "        ids = ids.flatten()\n",
        "\n",
        "        ids = ids[:len(x_train_subsample)]  # take the first k (out of the subsample)\n",
        "        nn_labels = [y_train_subsample[x_id] for x_id in ids]\n",
        "\n",
        "        k = 1\n",
        "        while k < MAX_K:\n",
        "            y_pred = max(set(nn_labels[:k]), key=nn_labels[:k].count)\n",
        "            if y_pred == y:\n",
        "                break\n",
        "            k += 1\n",
        "        #if (i % 100) == 0:\n",
        "            #print(\"x value\", i)\n",
        "            #print(k)\n",
        "        k_values.append(k)\n",
        "\n",
        "    return k_values, x_test_subsample\n"
      ],
      "metadata": {
        "id": "bfjAqxKz_1mj"
      },
      "execution_count": 8,
      "outputs": []
    },
    {
      "cell_type": "code",
      "source": [
        "from sklearn.model_selection import train_test_split\n",
        "\n",
        "# create subsamples of x_train and y_train for creating ground truth values of k\n",
        "\n",
        "x_train_sub, x_test_sub, y_train_sub, y_test_sub = train_test_split(x_train, y_train, test_size = 0.2, random_state = 42)\n",
        "k_vals, x_test_subsample = gen_k_ground_truth(x_test_sub, y_test_sub, x_train_sub, y_train_sub)\n",
        "x_train_k, x_test_k, k_train_k, k_test_k = train_test_split(x_test_subsample, k_vals, test_size=0.2, random_state=42)"
      ],
      "metadata": {
        "colab": {
          "base_uri": "https://localhost:8080/"
        },
        "id": "--4V9vDpIZyG",
        "outputId": "b764a9f4-e23b-416e-ef1b-ca2796b5dd79"
      },
      "execution_count": 9,
      "outputs": [
        {
          "output_type": "stream",
          "name": "stdout",
          "text": [
            "4800-NN index built with a subsample of 4800 training instances\n",
            "1200\n"
          ]
        }
      ]
    },
    {
      "cell_type": "code",
      "source": [
        "from sklearn.linear_model import LogisticRegression\n",
        "\n",
        "def fit_classifier():\n",
        "  print(\"Generating training subsamples...\")\n",
        "  x_train_sub, x_test_sub, y_train_sub, y_test_sub = train_test_split(x_train, y_train, test_size = 0.2, random_state = 42)\n",
        "  print(\"Generating ground truth k values...\")\n",
        "  k_vals, x_test_subsample = gen_k_ground_truth(x_test_sub, y_test_sub, x_train_sub, y_train_sub)\n",
        "  x_train_k, x_test_k, k_train_k, k_test_k = train_test_split(x_test_subsample, k_vals, test_size=0.2, random_state=42)\n",
        "\n",
        "  # Train a logistic regression classifier\n",
        "  classifier = LogisticRegression(max_iter=1000, random_state=42)\n",
        "  print(\"Fitting a classifier to x values and k values...\")\n",
        "  classifier.fit(x_train_k, k_train_k)\n",
        "  return classifier\n",
        "\n",
        "def predict_k_values_supervised(x_test):\n",
        "  print(\"Generating training subsamples...\")\n",
        "  x_train_sub, x_test_sub, y_train_sub, y_test_sub = train_test_split(x_train, y_train, test_size = 0.2, random_state = 42)\n",
        "  print(\"Generating ground truth k values...\")\n",
        "  k_vals, x_test_subsample = gen_k_ground_truth(x_test_sub, y_test_sub, x_train_sub, y_train_sub)\n",
        "  x_train_k, x_test_k, k_train_k, k_test_k = train_test_split(x_test_subsample, k_vals, test_size=0.2, random_state=42)\n",
        "\n",
        "  # Train a logistic regression classifier\n",
        "  classifier = LogisticRegression(max_iter=1000, random_state=42)\n",
        "  print(\"Fitting a classifier to x values and k values...\")\n",
        "  classifier.fit(x_train_k, k_train_k)\n",
        "\n",
        "  # Predict k values for the test set\n",
        "  print(\"Predicting k values for test dataset...\")\n",
        "  k_pred = classifier.predict(x_test)\n",
        "\n",
        "  # Print or use the predicted k values as needed\n",
        "  return(k_pred)"
      ],
      "metadata": {
        "id": "aIunv0HS9M6Y"
      },
      "execution_count": 29,
      "outputs": []
    },
    {
      "cell_type": "code",
      "source": [
        "# For adaptively choosing $k$ we need to set an upper bound (the lower bound being 1).\n",
        "MAX_K = 20\n",
        "\n",
        "from sklearn.neighbors import NearestNeighbors\n",
        "\n",
        "def adaptive_knn_v1(x_test, y_test):\n",
        "\n",
        "    # Build the index so that we retrieve the neighborhoods faster\n",
        "    nn_index = NearestNeighbors(n_neighbors=MAX_K).fit(x_train)\n",
        "\n",
        "    #print (\"{}-NN index built\".format(MAX_K))\n",
        "\n",
        "    # Dynamic k workflow\n",
        "    k_values = predict_k_values_supervised(x_test)\n",
        "    y_preds = []\n",
        "\n",
        "    for i in range(len(x_test)):\n",
        "        k = k_values[i]\n",
        "\n",
        "        #print (\"Predicting with nn-size = {}\".format(k))\n",
        "        x = x_test[i]\n",
        "        distances, ids = nn_index.kneighbors([x])\n",
        "        ids = ids.flatten()\n",
        "\n",
        "        ids = ids[:k] # take the first k (out of MAX_K)\n",
        "        nn_labels = []\n",
        "        for x_id in ids:\n",
        "            nn_labels.append(y_train[x_id])\n",
        "\n",
        "        y_pred = max(set(nn_labels), key=nn_labels.count)\n",
        "        y_preds.append(y_pred)\n",
        "\n",
        "    accuracy = accuracy_score(y_test, y_preds)\n",
        "    return accuracy"
      ],
      "metadata": {
        "id": "_z-60VGV43vd"
      },
      "execution_count": 28,
      "outputs": []
    },
    {
      "cell_type": "code",
      "source": [
        "classifier = fit_classifier()\n",
        "accuracy = adaptive_knn_v1(x_test, y_test)\n",
        "print (\"Adaptive K-NN model accuracy: {:.4f}\".format(accuracy))"
      ],
      "metadata": {
        "colab": {
          "base_uri": "https://localhost:8080/"
        },
        "id": "7oD6Xu315AIW",
        "outputId": "4fa3363e-9048-437c-8920-213fb2cafdf1"
      },
      "execution_count": 15,
      "outputs": [
        {
          "output_type": "stream",
          "name": "stdout",
          "text": [
            "Generating training subsamples...\n",
            "Generating ground truth k values...\n",
            "4800-NN index built with a subsample of 4800 training instances\n",
            "1200\n",
            "Fitting a classifier to x values and k values...\n",
            "20-NN index built\n",
            "Predicting k values for test dataset...\n",
            "Adaptive K-NN model accuracy: 0.5300\n"
          ]
        }
      ]
    },
    {
      "cell_type": "markdown",
      "source": [
        "The model works!!!! With higher levels of accuracy!!!"
      ],
      "metadata": {
        "id": "sjHg_I1F5fyo"
      }
    },
    {
      "cell_type": "code",
      "source": [],
      "metadata": {
        "id": "nK5Mg4I85rg4"
      },
      "execution_count": null,
      "outputs": []
    },
    {
      "cell_type": "markdown",
      "source": [
        "# Task 2: Attempt 1"
      ],
      "metadata": {
        "id": "E7EUf8kaAIj6"
      }
    },
    {
      "cell_type": "code",
      "source": [
        "import numpy as np\n",
        "from tensorflow import keras\n",
        "from tensorflow.keras import layers\n",
        "import random\n",
        "from sklearn.linear_model import LogisticRegression\n",
        "from sklearn.model_selection import train_test_split\n",
        "from sklearn.metrics import accuracy_score\n",
        "\n",
        "def corrupt_label(y, err):\n",
        "    found = np.where(err == y)\n",
        "    if len(found) > 0:\n",
        "        # select an element at random (index != found)\n",
        "        noisy_label = random.choice(err)\n",
        "        while noisy_label == y:\n",
        "            noisy_label = random.choice(err)\n",
        "        return noisy_label\n",
        "    return y\n",
        "\n",
        "def corrupt_labels(y_train, noise_probability):\n",
        "    num_samples = y_train.shape[0]\n",
        "    err_es_1 = np.array([0, 2, 3, 5, 6, 8, 9])\n",
        "    err_es_2 = np.array([1, 4, 7])\n",
        "\n",
        "    corruptions = {}\n",
        "    corrupted_indexes = {}\n",
        "\n",
        "    for i in range(num_samples):\n",
        "        p = random.random()\n",
        "\n",
        "        if p < noise_probability:\n",
        "            y = y_train[i]\n",
        "            y_noisy = corrupt_label(y, err_es_1)\n",
        "            if y_noisy == y:\n",
        "                y_noisy = corrupt_label(y, err_es_2)\n",
        "\n",
        "            key = str(y_train[i]) + '->' + str(y_noisy)\n",
        "            corrupted_indexes[i] = i\n",
        "\n",
        "            if key in corruptions:\n",
        "                corruptions[key] += 1\n",
        "            else:\n",
        "                corruptions[key] = 0\n",
        "\n",
        "            y_train[i] = y_noisy\n",
        "\n",
        "    return corruptions, corrupted_indexes\n",
        "\n",
        "# Run the function to generate the plot\n",
        "#plot_accuracy_vs_noise_probability()\n",
        "\n",
        "def generate_simulated_dataset_with_noise(x_data, y_data, noise_probability):\n",
        "    x_corrupted = x_data.copy()\n",
        "    y_corrupted = y_data.copy()\n",
        "\n",
        "    _, corrupted_indexes = corrupt_labels(y_corrupted, noise_probability)\n",
        "\n",
        "    return x_corrupted, y_corrupted, list(corrupted_indexes.keys())\n",
        "\n",
        "def plot_accuracy_vs_noise_probability():\n",
        "    noise_probabilities = np.linspace(0, 1, 11)\n",
        "    accuracies = []\n",
        "\n",
        "    for noise_probability in noise_probabilities:\n",
        "        x_train_corrupted, y_train_corrupted, _ = generate_simulated_dataset_with_noise(x_train, y_train, noise_probability)\n",
        "        x_train_split, x_val_split, y_train_split, y_val _split = train_test_split(x_train_corrupted, y_train_corrupted, test_size=0.2, random_state=42)\n",
        "        accuracy = adaptive_knn_v1(x_val_split, y_val_split)\n",
        "        accuracies.append(accuracy)\n",
        "\n",
        "    plt.plot(noise_probabilities, accuracies, marker='o')\n",
        "    plt.xlabel('Noise Probability')\n",
        "    plt.ylabel('Accuracy')\n",
        "    plt.title('Accuracy vs Noise Probability')\n",
        "    plt.show()\n",
        "\n",
        "# Run the function to generate the plot\n",
        "plot_accuracy_vs_noise_probability()\n"
      ],
      "metadata": {
        "colab": {
          "base_uri": "https://localhost:8080/",
          "height": 511
        },
        "id": "n_KmW8LRAMWW",
        "outputId": "0e3380d4-336c-457c-db51-eef05e8dc59b"
      },
      "execution_count": 70,
      "outputs": [
        {
          "output_type": "stream",
          "name": "stdout",
          "text": [
            "20-NN index built\n",
            "Generating training subsamples...\n",
            "Generating ground truth k values...\n",
            "4800-NN index built with a subsample of 4800 training instances\n",
            "1200\n",
            "Fitting a classifier to x values and k values...\n",
            "Predicting k values for test dataset...\n"
          ]
        },
        {
          "output_type": "error",
          "ename": "KeyboardInterrupt",
          "evalue": "ignored",
          "traceback": [
            "\u001b[0;31m---------------------------------------------------------------------------\u001b[0m",
            "\u001b[0;31mKeyboardInterrupt\u001b[0m                         Traceback (most recent call last)",
            "\u001b[0;32m<ipython-input-70-bcab997402dc>\u001b[0m in \u001b[0;36m<cell line: 76>\u001b[0;34m()\u001b[0m\n\u001b[1;32m     74\u001b[0m \u001b[0;34m\u001b[0m\u001b[0m\n\u001b[1;32m     75\u001b[0m \u001b[0;31m# Run the function to generate the plot\u001b[0m\u001b[0;34m\u001b[0m\u001b[0;34m\u001b[0m\u001b[0m\n\u001b[0;32m---> 76\u001b[0;31m \u001b[0mplot_accuracy_vs_noise_probability\u001b[0m\u001b[0;34m(\u001b[0m\u001b[0;34m)\u001b[0m\u001b[0;34m\u001b[0m\u001b[0;34m\u001b[0m\u001b[0m\n\u001b[0m",
            "\u001b[0;32m<ipython-input-70-bcab997402dc>\u001b[0m in \u001b[0;36mplot_accuracy_vs_noise_probability\u001b[0;34m()\u001b[0m\n\u001b[1;32m     64\u001b[0m         \u001b[0mx_train_corrupted\u001b[0m\u001b[0;34m,\u001b[0m \u001b[0my_train_corrupted\u001b[0m\u001b[0;34m,\u001b[0m \u001b[0m_\u001b[0m \u001b[0;34m=\u001b[0m \u001b[0mgenerate_simulated_dataset_with_noise\u001b[0m\u001b[0;34m(\u001b[0m\u001b[0mx_train\u001b[0m\u001b[0;34m,\u001b[0m \u001b[0my_train\u001b[0m\u001b[0;34m,\u001b[0m \u001b[0mnoise_probability\u001b[0m\u001b[0;34m)\u001b[0m\u001b[0;34m\u001b[0m\u001b[0;34m\u001b[0m\u001b[0m\n\u001b[1;32m     65\u001b[0m         \u001b[0mx_train_split\u001b[0m\u001b[0;34m,\u001b[0m \u001b[0mx_val_split\u001b[0m\u001b[0;34m,\u001b[0m \u001b[0my_train_split\u001b[0m\u001b[0;34m,\u001b[0m \u001b[0my_val_split\u001b[0m \u001b[0;34m=\u001b[0m \u001b[0mtrain_test_split\u001b[0m\u001b[0;34m(\u001b[0m\u001b[0mx_train_corrupted\u001b[0m\u001b[0;34m,\u001b[0m \u001b[0my_train_corrupted\u001b[0m\u001b[0;34m,\u001b[0m \u001b[0mtest_size\u001b[0m\u001b[0;34m=\u001b[0m\u001b[0;36m0.2\u001b[0m\u001b[0;34m,\u001b[0m \u001b[0mrandom_state\u001b[0m\u001b[0;34m=\u001b[0m\u001b[0;36m42\u001b[0m\u001b[0;34m)\u001b[0m\u001b[0;34m\u001b[0m\u001b[0;34m\u001b[0m\u001b[0m\n\u001b[0;32m---> 66\u001b[0;31m         \u001b[0maccuracy\u001b[0m \u001b[0;34m=\u001b[0m \u001b[0madaptive_knn_v1\u001b[0m\u001b[0;34m(\u001b[0m\u001b[0mx_val_split\u001b[0m\u001b[0;34m,\u001b[0m \u001b[0my_val_split\u001b[0m\u001b[0;34m)\u001b[0m\u001b[0;34m\u001b[0m\u001b[0;34m\u001b[0m\u001b[0m\n\u001b[0m\u001b[1;32m     67\u001b[0m         \u001b[0maccuracies\u001b[0m\u001b[0;34m.\u001b[0m\u001b[0mappend\u001b[0m\u001b[0;34m(\u001b[0m\u001b[0maccuracy\u001b[0m\u001b[0;34m)\u001b[0m\u001b[0;34m\u001b[0m\u001b[0;34m\u001b[0m\u001b[0m\n\u001b[1;32m     68\u001b[0m \u001b[0;34m\u001b[0m\u001b[0m\n",
            "\u001b[0;32m<ipython-input-66-da80601c0618>\u001b[0m in \u001b[0;36madaptive_knn_v1\u001b[0;34m(x_test, y_test)\u001b[0m\n\u001b[1;32m     20\u001b[0m         \u001b[0;31m#print (\"Predicting with nn-size = {}\".format(k))\u001b[0m\u001b[0;34m\u001b[0m\u001b[0;34m\u001b[0m\u001b[0m\n\u001b[1;32m     21\u001b[0m         \u001b[0mx\u001b[0m \u001b[0;34m=\u001b[0m \u001b[0mx_test\u001b[0m\u001b[0;34m[\u001b[0m\u001b[0mi\u001b[0m\u001b[0;34m]\u001b[0m\u001b[0;34m\u001b[0m\u001b[0;34m\u001b[0m\u001b[0m\n\u001b[0;32m---> 22\u001b[0;31m         \u001b[0mdistances\u001b[0m\u001b[0;34m,\u001b[0m \u001b[0mids\u001b[0m \u001b[0;34m=\u001b[0m \u001b[0mnn_index\u001b[0m\u001b[0;34m.\u001b[0m\u001b[0mkneighbors\u001b[0m\u001b[0;34m(\u001b[0m\u001b[0;34m[\u001b[0m\u001b[0mx\u001b[0m\u001b[0;34m]\u001b[0m\u001b[0;34m)\u001b[0m\u001b[0;34m\u001b[0m\u001b[0;34m\u001b[0m\u001b[0m\n\u001b[0m\u001b[1;32m     23\u001b[0m         \u001b[0mids\u001b[0m \u001b[0;34m=\u001b[0m \u001b[0mids\u001b[0m\u001b[0;34m.\u001b[0m\u001b[0mflatten\u001b[0m\u001b[0;34m(\u001b[0m\u001b[0;34m)\u001b[0m\u001b[0;34m\u001b[0m\u001b[0;34m\u001b[0m\u001b[0m\n\u001b[1;32m     24\u001b[0m \u001b[0;34m\u001b[0m\u001b[0m\n",
            "\u001b[0;32m/usr/local/lib/python3.10/dist-packages/sklearn/neighbors/_base.py\u001b[0m in \u001b[0;36mkneighbors\u001b[0;34m(self, X, n_neighbors, return_distance)\u001b[0m\n\u001b[1;32m    822\u001b[0m         )\n\u001b[1;32m    823\u001b[0m         \u001b[0;32mif\u001b[0m \u001b[0muse_pairwise_distances_reductions\u001b[0m\u001b[0;34m:\u001b[0m\u001b[0;34m\u001b[0m\u001b[0;34m\u001b[0m\u001b[0m\n\u001b[0;32m--> 824\u001b[0;31m             results = ArgKmin.compute(\n\u001b[0m\u001b[1;32m    825\u001b[0m                 \u001b[0mX\u001b[0m\u001b[0;34m=\u001b[0m\u001b[0mX\u001b[0m\u001b[0;34m,\u001b[0m\u001b[0;34m\u001b[0m\u001b[0;34m\u001b[0m\u001b[0m\n\u001b[1;32m    826\u001b[0m                 \u001b[0mY\u001b[0m\u001b[0;34m=\u001b[0m\u001b[0mself\u001b[0m\u001b[0;34m.\u001b[0m\u001b[0m_fit_X\u001b[0m\u001b[0;34m,\u001b[0m\u001b[0;34m\u001b[0m\u001b[0;34m\u001b[0m\u001b[0m\n",
            "\u001b[0;32m/usr/local/lib/python3.10/dist-packages/sklearn/metrics/_pairwise_distances_reduction/_dispatcher.py\u001b[0m in \u001b[0;36mcompute\u001b[0;34m(cls, X, Y, k, metric, chunk_size, metric_kwargs, strategy, return_distance)\u001b[0m\n\u001b[1;32m    287\u001b[0m \u001b[0;34m\u001b[0m\u001b[0m\n\u001b[1;32m    288\u001b[0m         \u001b[0;32mif\u001b[0m \u001b[0mX\u001b[0m\u001b[0;34m.\u001b[0m\u001b[0mdtype\u001b[0m \u001b[0;34m==\u001b[0m \u001b[0mY\u001b[0m\u001b[0;34m.\u001b[0m\u001b[0mdtype\u001b[0m \u001b[0;34m==\u001b[0m \u001b[0mnp\u001b[0m\u001b[0;34m.\u001b[0m\u001b[0mfloat32\u001b[0m\u001b[0;34m:\u001b[0m\u001b[0;34m\u001b[0m\u001b[0;34m\u001b[0m\u001b[0m\n\u001b[0;32m--> 289\u001b[0;31m             return ArgKmin32.compute(\n\u001b[0m\u001b[1;32m    290\u001b[0m                 \u001b[0mX\u001b[0m\u001b[0;34m=\u001b[0m\u001b[0mX\u001b[0m\u001b[0;34m,\u001b[0m\u001b[0;34m\u001b[0m\u001b[0;34m\u001b[0m\u001b[0m\n\u001b[1;32m    291\u001b[0m                 \u001b[0mY\u001b[0m\u001b[0;34m=\u001b[0m\u001b[0mY\u001b[0m\u001b[0;34m,\u001b[0m\u001b[0;34m\u001b[0m\u001b[0;34m\u001b[0m\u001b[0m\n",
            "\u001b[0;32msklearn/metrics/_pairwise_distances_reduction/_argkmin.pyx\u001b[0m in \u001b[0;36msklearn.metrics._pairwise_distances_reduction._argkmin.ArgKmin32.compute\u001b[0;34m()\u001b[0m\n",
            "\u001b[0;32m/usr/local/lib/python3.10/dist-packages/threadpoolctl.py\u001b[0m in \u001b[0;36m__exit__\u001b[0;34m(self, type, value, traceback)\u001b[0m\n\u001b[1;32m    438\u001b[0m         \u001b[0;32mreturn\u001b[0m \u001b[0mself\u001b[0m\u001b[0;34m\u001b[0m\u001b[0;34m\u001b[0m\u001b[0m\n\u001b[1;32m    439\u001b[0m \u001b[0;34m\u001b[0m\u001b[0m\n\u001b[0;32m--> 440\u001b[0;31m     \u001b[0;32mdef\u001b[0m \u001b[0m__exit__\u001b[0m\u001b[0;34m(\u001b[0m\u001b[0mself\u001b[0m\u001b[0;34m,\u001b[0m \u001b[0mtype\u001b[0m\u001b[0;34m,\u001b[0m \u001b[0mvalue\u001b[0m\u001b[0;34m,\u001b[0m \u001b[0mtraceback\u001b[0m\u001b[0;34m)\u001b[0m\u001b[0;34m:\u001b[0m\u001b[0;34m\u001b[0m\u001b[0;34m\u001b[0m\u001b[0m\n\u001b[0m\u001b[1;32m    441\u001b[0m         \u001b[0mself\u001b[0m\u001b[0;34m.\u001b[0m\u001b[0mrestore_original_limits\u001b[0m\u001b[0;34m(\u001b[0m\u001b[0;34m)\u001b[0m\u001b[0;34m\u001b[0m\u001b[0;34m\u001b[0m\u001b[0m\n\u001b[1;32m    442\u001b[0m \u001b[0;34m\u001b[0m\u001b[0m\n",
            "\u001b[0;31mKeyboardInterrupt\u001b[0m: "
          ]
        }
      ]
    },
    {
      "cell_type": "code",
      "source": [],
      "metadata": {
        "id": "QU4wiIOwExYg"
      },
      "execution_count": null,
      "outputs": []
    },
    {
      "cell_type": "markdown",
      "source": [
        "# Task 2: Attempt 2"
      ],
      "metadata": {
        "id": "n-hOS4fdE3tu"
      }
    },
    {
      "cell_type": "code",
      "source": [
        "probs = [0, 0.1, 0.2, 0.3, 0.4, 0.5, 0.6, 0.7, 0.8, 0.9, 1]\n",
        "supervised_acc = []\n",
        "unsupervised_acc = []\n",
        "for p in probs:\n",
        "  print(\"Iteration with p :\", p)\n",
        "  corruptions, corrupted_indexes = corrupt_labels(y_train, p)\n",
        "  print(\"Performing unsupervised approach...\")\n",
        "  #unsupervised approach\n",
        "  accuracy1 = adaptive_knn(x_test, y_test)\n",
        "  unsupervised_acc.append(accuracy1)\n",
        "\n",
        "  print(\"Performing supervised approach...\")\n",
        "  #supervised approach\n",
        "  accuracy2 = adaptive_knn_v1(x_test, y_test)\n",
        "  supervised_acc.append(accuracy2)\n",
        "  print(\"\\n\")"
      ],
      "metadata": {
        "colab": {
          "base_uri": "https://localhost:8080/"
        },
        "id": "mwoHAJ8sG4KD",
        "outputId": "1f858388-7972-4cf2-9c7d-eefab682c3f9"
      },
      "execution_count": 33,
      "outputs": [
        {
          "output_type": "stream",
          "name": "stdout",
          "text": [
            "Iteration with p : 0\n",
            "Performing unsupervised approach...\n",
            "Performing supervised approach...\n",
            "Generating training subsamples...\n",
            "Generating ground truth k values...\n",
            "4800-NN index built with a subsample of 4800 training instances\n",
            "1200\n",
            "Fitting a classifier to x values and k values...\n",
            "Predicting k values for test dataset...\n",
            "\n",
            "\n",
            "Iteration with p : 0.1\n",
            "Performing unsupervised approach...\n",
            "Performing supervised approach...\n",
            "Generating training subsamples...\n",
            "Generating ground truth k values...\n",
            "4800-NN index built with a subsample of 4800 training instances\n",
            "1200\n",
            "Fitting a classifier to x values and k values...\n",
            "Predicting k values for test dataset...\n",
            "\n",
            "\n",
            "Iteration with p : 0.2\n",
            "Performing unsupervised approach...\n",
            "Performing supervised approach...\n",
            "Generating training subsamples...\n",
            "Generating ground truth k values...\n",
            "4800-NN index built with a subsample of 4800 training instances\n",
            "1200\n",
            "Fitting a classifier to x values and k values...\n",
            "Predicting k values for test dataset...\n",
            "\n",
            "\n",
            "Iteration with p : 0.3\n",
            "Performing unsupervised approach...\n",
            "Performing supervised approach...\n",
            "Generating training subsamples...\n",
            "Generating ground truth k values...\n",
            "4800-NN index built with a subsample of 4800 training instances\n",
            "1200\n",
            "Fitting a classifier to x values and k values...\n",
            "Predicting k values for test dataset...\n",
            "\n",
            "\n",
            "Iteration with p : 0.4\n",
            "Performing unsupervised approach...\n",
            "Performing supervised approach...\n",
            "Generating training subsamples...\n",
            "Generating ground truth k values...\n",
            "4800-NN index built with a subsample of 4800 training instances\n",
            "1200\n",
            "Fitting a classifier to x values and k values...\n",
            "Predicting k values for test dataset...\n",
            "\n",
            "\n",
            "Iteration with p : 0.5\n",
            "Performing unsupervised approach...\n",
            "Performing supervised approach...\n",
            "Generating training subsamples...\n",
            "Generating ground truth k values...\n",
            "4800-NN index built with a subsample of 4800 training instances\n",
            "1200\n",
            "Fitting a classifier to x values and k values...\n",
            "Predicting k values for test dataset...\n",
            "\n",
            "\n",
            "Iteration with p : 0.6\n",
            "Performing unsupervised approach...\n",
            "Performing supervised approach...\n",
            "Generating training subsamples...\n",
            "Generating ground truth k values...\n",
            "4800-NN index built with a subsample of 4800 training instances\n",
            "1200\n",
            "Fitting a classifier to x values and k values...\n",
            "Predicting k values for test dataset...\n",
            "\n",
            "\n",
            "Iteration with p : 0.7\n",
            "Performing unsupervised approach...\n",
            "Performing supervised approach...\n",
            "Generating training subsamples...\n",
            "Generating ground truth k values...\n",
            "4800-NN index built with a subsample of 4800 training instances\n",
            "1200\n",
            "Fitting a classifier to x values and k values...\n",
            "Predicting k values for test dataset...\n",
            "\n",
            "\n",
            "Iteration with p : 0.8\n",
            "Performing unsupervised approach...\n",
            "Performing supervised approach...\n",
            "Generating training subsamples...\n",
            "Generating ground truth k values...\n",
            "4800-NN index built with a subsample of 4800 training instances\n",
            "1200\n",
            "Fitting a classifier to x values and k values...\n",
            "Predicting k values for test dataset...\n",
            "\n",
            "\n",
            "Iteration with p : 0.9\n",
            "Performing unsupervised approach...\n",
            "Performing supervised approach...\n",
            "Generating training subsamples...\n",
            "Generating ground truth k values...\n",
            "4800-NN index built with a subsample of 4800 training instances\n",
            "1200\n",
            "Fitting a classifier to x values and k values...\n",
            "Predicting k values for test dataset...\n",
            "\n",
            "\n",
            "Iteration with p : 1\n",
            "Performing unsupervised approach...\n",
            "Performing supervised approach...\n",
            "Generating training subsamples...\n",
            "Generating ground truth k values...\n",
            "4800-NN index built with a subsample of 4800 training instances\n",
            "1200\n",
            "Fitting a classifier to x values and k values...\n",
            "Predicting k values for test dataset...\n",
            "\n",
            "\n"
          ]
        }
      ]
    },
    {
      "cell_type": "code",
      "source": [
        "import matplotlib.pyplot as plt\n",
        "\n",
        "# Plotting\n",
        "plt.plot(probs, supervised_acc, label='Supervised Accuracy')\n",
        "plt.plot(probs, unsupervised_acc, label='Unsupervised Accuracy')\n",
        "plt.xlabel('Noise Probability')\n",
        "plt.ylabel('Accuracy')\n",
        "plt.title('Accuracy vs. Noise Probability')\n",
        "plt.legend()\n",
        "plt.show()"
      ],
      "metadata": {
        "colab": {
          "base_uri": "https://localhost:8080/",
          "height": 472
        },
        "id": "GAXQHp2eH7NQ",
        "outputId": "0ec661d3-db34-4c57-8506-d11c68b90aba"
      },
      "execution_count": 25,
      "outputs": [
        {
          "output_type": "display_data",
          "data": {
            "text/plain": [
              "<Figure size 640x480 with 1 Axes>"
            ],
            "image/png": "[encoded data removed]"
          },
          "metadata": {}
        }
      ]
    },
    {
      "cell_type": "markdown",
      "source": [
        "# Task 3\n"
      ],
      "metadata": {
        "id": "8Ha405SPAVts"
      }
    },
    {
      "cell_type": "markdown",
      "source": [
        "Hyperparameter analysis\n",
        "- Different values of k\n",
        "- Different values of subsampling\n",
        "-"
      ],
      "metadata": {
        "id": "cwa0-mv1Abb6"
      }
    },
    {
      "cell_type": "code",
      "source": [
        "# Define the parameter grid to search\n",
        "param_grid = {\n",
        "    'C': [0.001, 0.01, 0.1, 1, 10, 100],  # Specify the range of values for C\n",
        "    'penalty': ['l1', 'l2'],  # L1 (Lasso) or L2 (Ridge) penalty\n",
        "    'solver': ['liblinear', 'lbfgs', 'saga'],  # Different optimization algorithms\n",
        "    'class_weight': [None, 'balanced'],  # Class weight options\n",
        "    'tol': [1e-4, 1e-3, 1e-2]  # Tolerance for stopping criteria\n",
        "}\n",
        "\n",
        "# Create a logistic regression classifier\n",
        "classifier = LogisticRegression(max_iter=1000, random_state=42)\n",
        "\n",
        "# Create GridSearchCV object\n",
        "grid_search = GridSearchCV(classifier, param_grid, cv=5, scoring='accuracy', verbose=1, n_jobs=-1)\n",
        "\n",
        "# Fit the grid search to the data\n",
        "grid_search.fit(x_train, y_train)\n",
        "\n",
        "# Get the results as a DataFrame\n",
        "results = pd.DataFrame(grid_search.cv_results_)"
      ],
      "metadata": {
        "id": "T3-WVIq-AaRF"
      },
      "execution_count": null,
      "outputs": []
    },
    {
      "cell_type": "code",
      "source": [
        "from sklearn.linear_model import LogisticRegression\n",
        "from sklearn.model_selection import GridSearchCV, train_test_split\n",
        "from sklearn.metrics import accuracy_score\n",
        "from sklearn.neighbors import NearestNeighbors\n",
        "from sklearn.base import BaseEstimator, ClassifierMixin\n",
        "from sklearn.utils.validation import check_X_y, check_array, check_is_fitted\n",
        "\n",
        "class LogisticRegressionWrapper(BaseEstimator, ClassifierMixin):\n",
        "    def __init__(self, C=1.0, penalty='l2', solver='lbfgs'):\n",
        "        self.C = C\n",
        "        self.penalty = penalty\n",
        "        self.solver = solver\n",
        "        self.classifier = LogisticRegression(C=C, penalty=penalty, solver=solver, max_iter=1000, random_state=42)\n",
        "\n",
        "    def fit(self, X, y):\n",
        "        X, y = check_X_y(X, y)\n",
        "        self.classifier.fit(X, y)\n",
        "        return self\n",
        "\n",
        "    def predict(self, X):\n",
        "        check_is_fitted(self, 'classifier')\n",
        "        X = check_array(X)\n",
        "        return self.classifier.predict(X)\n",
        "\n",
        "def adaptive_knn_v1(x_test, y_test, param_grid_logreg):\n",
        "    # Build the index so that we retrieve the neighborhoods faster\n",
        "    nn_index = NearestNeighbors(n_neighbors=MAX_K).fit(x_train)\n",
        "\n",
        "    print(\"{}-NN index built\".format(MAX_K))\n",
        "\n",
        "    # Dynamic k workflow\n",
        "    k_values = predict_k_values_supervised(x_test, param_grid_logreg)\n",
        "    y_preds = []\n",
        "\n",
        "    for i in range(len(x_test)):\n",
        "        k = k_values[i]\n",
        "\n",
        "        # print (\"Predicting with nn-size = {}\".format(k))\n",
        "        x = x_test[i]\n",
        "        distances, ids = nn_index.kneighbors([x])\n",
        "        ids = ids.flatten()\n",
        "\n",
        "        ids = ids[:k]  # take the first k (out of MAX_K)\n",
        "        nn_labels = []\n",
        "        for x_id in ids:\n",
        "            nn_labels.append(y_train[x_id])\n",
        "\n",
        "        y_pred = max(set(nn_labels), key=nn_labels.count)\n",
        "        y_preds.append(y_pred)\n",
        "\n",
        "    accuracy = accuracy_score(y_test, y_preds)\n",
        "    return accuracy\n",
        "\n",
        "def predict_k_values_supervised(x_test, param_grid_logreg):\n",
        "    print(\"Generating training subsamples...\")\n",
        "    x_train_sub, x_test_sub, y_train_sub, y_test_sub = train_test_split(x_train, y_train, test_size=0.2,\n",
        "                                                                        random_state=42)\n",
        "    print(\"Generating ground truth k values...\")\n",
        "    k_vals, x_test_subsample = gen_k_ground_truth(x_test_sub, y_test_sub, x_train_sub, y_train_sub)\n",
        "    x_train_k, x_test_k, k_train_k, k_test_k = train_test_split(x_test_subsample, k_vals, test_size=0.2,\n",
        "                                                                random_state=42)\n",
        "\n",
        "    # Create a logistic regression classifier\n",
        "    logreg_classifier = LogisticRegressionWrapper()\n",
        "\n",
        "    # Create GridSearchCV object for hyperparameter tuning\n",
        "    grid_search = GridSearchCV(logreg_classifier, param_grid_logreg, cv=5, scoring='accuracy', verbose=1, n_jobs=-1)\n",
        "\n",
        "    # Fit the grid search to the data\n",
        "    grid_search.fit(x_train_k, k_train_k)\n",
        "\n",
        "    # Get the best hyperparameters for logistic regression\n",
        "    best_params_logreg = grid_search.best_params_\n",
        "\n",
        "    # Use the best logistic regression hyperparameters\n",
        "    best_logreg = LogisticRegressionWrapper(**best_params_logreg)\n",
        "\n",
        "    # Train the logistic regression classifier with the best hyperparameters\n",
        "    best_logreg.fit(x_train_k, k_train_k)\n",
        "\n",
        "    # Predict k values for the test set\n",
        "    print(\"Predicting k values for test dataset...\")\n",
        "    k_pred = best_logreg.predict(x_test)\n",
        "\n",
        "    # Print or use the predicted k values as needed\n",
        "    return k_pred\n",
        "\n",
        "# Define the parameter grid for logistic regression\n",
        "param_grid_logreg = {\n",
        "    'C': [0.001, 0.01, 0.1, 1, 10, 100],  # Specify the range of values for C\n",
        "    'penalty': ['l1', 'l2'],  # L1 (Lasso) or L2 (Ridge) penalty\n",
        "    'solver': ['liblinear', 'lbfgs', 'saga'],  # Different optimization algorithms\n",
        "}\n",
        "\n",
        "# Call adaptive_knn_v1 with the logistic regression hyperparameter grid\n",
        "accuracy2 = adaptive_knn_v1(x_test, y_test, param_grid_logreg)\n",
        "\n",
        "print(\"Accuracy of the wider classifier:\", accuracy2)\n"
      ],
      "metadata": {
        "colab": {
          "base_uri": "https://localhost:8080/"
        },
        "id": "eDJVFo8xd0kR",
        "outputId": "abc16f17-d40b-4709-8d78-3897f474c1d6"
      },
      "execution_count": 26,
      "outputs": [
        {
          "output_type": "stream",
          "name": "stdout",
          "text": [
            "20-NN index built\n",
            "Generating training subsamples...\n",
            "Generating ground truth k values...\n",
            "4800-NN index built with a subsample of 4800 training instances\n",
            "1200\n",
            "Fitting 5 folds for each of 36 candidates, totalling 180 fits\n"
          ]
        },
        {
          "output_type": "stream",
          "name": "stderr",
          "text": [
            "/usr/local/lib/python3.10/dist-packages/sklearn/model_selection/_split.py:700: UserWarning: The least populated class in y has only 3 members, which is less than n_splits=5.\n",
            "  warnings.warn(\n"
          ]
        },
        {
          "output_type": "stream",
          "name": "stdout",
          "text": [
            "Predicting k values for test dataset...\n",
            "Accuracy of the wider classifier: 0.08\n"
          ]
        }
      ]
    },
    {
      "cell_type": "code",
      "source": [
        "def adaptive_knn_v2(inner_clf, x_test, y_test):\n",
        "\n",
        "    # Build the index so that we retrieve the neighborhoods faster\n",
        "    nn_index = NearestNeighbors(n_neighbors=MAX_K).fit(x_train)\n",
        "\n",
        "    #print (\"{}-NN index built\".format(MAX_K))\n",
        "\n",
        "    # Dynamic k workflow\n",
        "    print(\"Generating training subsamples...\")\n",
        "    x_train_sub, x_test_sub, y_train_sub, y_test_sub = train_test_split(x_train, y_train, test_size = 0.2, random_state = 42)\n",
        "    print(\"Generating ground truth k values...\")\n",
        "    k_vals, x_test_subsample = gen_k_ground_truth(x_test_sub, y_test_sub, x_train_sub, y_train_sub)\n",
        "    x_train_k, x_test_k, k_train_k, k_test_k = train_test_split(x_test_subsample, k_vals, test_size=0.2, random_state=42)\n",
        "\n",
        "    # Train a logistic regression classifier\n",
        "    #classifier = LogisticRegression(max_iter=1000, random_state=42)\n",
        "    print(\"Fitting a classifier to x values and k values...\")\n",
        "    inner_clf.fit(x_train_k, k_train_k)\n",
        "\n",
        "    # Predict k values for the test set\n",
        "    print(\"Predicting k values for test dataset...\")\n",
        "    k_values = inner_clf.predict(x_test)\n",
        "\n",
        "\n",
        "    y_preds = []\n",
        "\n",
        "    for i in range(len(x_test)):\n",
        "        k = k_values[i]\n",
        "\n",
        "        #print (\"Predicting with nn-size = {}\".format(k))\n",
        "        x = x_test[i]\n",
        "        distances, ids = nn_index.kneighbors([x])\n",
        "        ids = ids.flatten()\n",
        "\n",
        "        ids = ids[:k] # take the first k (out of MAX_K)\n",
        "        nn_labels = []\n",
        "        for x_id in ids:\n",
        "            nn_labels.append(y_train[x_id])\n",
        "\n",
        "        y_pred = max(set(nn_labels), key=nn_labels.count)\n",
        "        y_preds.append(y_pred)\n",
        "\n",
        "    accuracy = accuracy_score(y_test, y_preds)\n",
        "    return accuracy\n",
        "\n"
      ],
      "metadata": {
        "id": "BE5exp7zrYKq"
      },
      "execution_count": 35,
      "outputs": []
    },
    {
      "cell_type": "code",
      "source": [
        "inner_clf = LogisticRegression(max_iter=1000, random_state=42)\n",
        "\n",
        "# Define the parameter grid to search\n",
        "param_grid = {\n",
        "    'C': [0.001, 0.01, 0.1, 1, 10, 100],  # Specify the range of values for C\n",
        "    'penalty': ['l1', 'l2'],  # L1 (Lasso) or L2 (Ridge) penalty\n",
        "    'solver': ['liblinear', 'lbfgs', 'saga'],  # Different optimization algorithms\n",
        "    'class_weight': [None, 'balanced'],  # Class weight options\n",
        "    'tol': [1e-4, 1e-3, 1e-2]  # Tolerance for stopping criteria\n",
        "}\n",
        "\n",
        "# Create GridSearchCV object for hyperparameter tuning\n",
        "grid_search = GridSearchCV(inner_clf, param_grid, cv=5, scoring=adaptive_knn_v2, verbose=1, n_jobs=-1)\n",
        "grid_search.fit(x_train, y_train)\n",
        "all_results = grid_search.cv_results\n"
      ],
      "metadata": {
        "colab": {
          "base_uri": "https://localhost:8080/"
        },
        "id": "kKj9HQ1PyMjd",
        "outputId": "40231322-7881-43b5-b02b-f4e5f66f6d4e"
      },
      "execution_count": null,
      "outputs": [
        {
          "output_type": "stream",
          "name": "stdout",
          "text": [
            "Fitting 5 folds for each of 216 candidates, totalling 1080 fits\n"
          ]
        }
      ]
    }
  ]
}