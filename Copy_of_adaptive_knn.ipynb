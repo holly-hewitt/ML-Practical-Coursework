{
  "nbformat": 4,
  "nbformat_minor": 0,
  "metadata": {
    "colab": {
      "provenance": [],
      "include_colab_link": true
    },
    "kernelspec": {
      "name": "python3",
      "display_name": "Python 3"
    },
    "language_info": {
      "name": "python"
    }
  },
  "cells": [
    {
      "cell_type": "markdown",
      "metadata": {
        "id": "view-in-github",
        "colab_type": "text"
      },
      "source": [
        "<a href=\"https://colab.research.google.com/github/holly-hewitt/ML-Practical-Coursework/blob/main/Copy_of_adaptive_knn.ipynb\" target=\"_parent\"><img src=\"https://colab.research.google.com/assets/colab-badge.svg\" alt=\"Open In Colab\"/></a>"
      ]
    },
    {
      "cell_type": "markdown",
      "source": [
        "## Coursework 2 (Practical) for COMPSCI4061 / COMPSCI5014 Machine Learning H / M - 2023-24\n",
        "\n",
        "### Problem Statement\n",
        "\n",
        "The explicit task description for this assignment is at the bottom of this notebook.\n",
        "\n",
        "In this assignment, we are going to explore an adaptive K-NN classifier. Usually, for K-NN classification (which is a non-parametric approach), we work with a fixed value of $k$. After storing the data instances and the labels, during the inference time for each point, we get its $k$-neighborhood and predict the majority label from its neighborhood as the label of the current point.\n",
        "\n",
        "In this report, we are going to investigate if a variable $k$ (the value of which depends on the data instance) performs better than a static choice of $k$.\n",
        "\n",
        "We are going to implement two different approaches - one based on heuristics, and the other based on a supervised parametric classifier that predicts the value of $k$ given a data instance."
      ],
      "metadata": {
        "id": "9as8OW5--yyp"
      }
    },
    {
      "cell_type": "markdown",
      "source": [
        "The following block of code downloads and prepares the dataset to be used. It also shows some sample images from the training set."
      ],
      "metadata": {
        "id": "jkG2Tt2q_ALd"
      }
    },
    {
      "cell_type": "code",
      "source": [
        "import numpy as np\n",
        "from tensorflow import keras\n",
        "from tensorflow.keras import layers\n",
        "import random\n",
        "\n",
        "# Model / data parameters\n",
        "num_classes = 10\n",
        "input_shape = (28, 28, 1)\n",
        "\n",
        "# Load the data and split it between train and test sets\n",
        "(x_train, y_train), (x_test, y_test) = keras.datasets.mnist.load_data()\n",
        "\n",
        "\n",
        "from matplotlib import pyplot\n",
        "for i in range(9):\n",
        "  pyplot.subplot(330 + 1 + i)\n",
        "  pyplot.imshow(x_train[i], cmap=pyplot.get_cmap('gray'))\n",
        "\n",
        "pyplot.show()\n",
        "\n",
        "\n",
        "# Scale images to the [0, 1] range\n",
        "x_train = x_train.astype(\"float32\") / 255\n",
        "x_test = x_test.astype(\"float32\") / 255\n",
        "\n",
        "# Make sure images have shape (28, 28, 1)\n",
        "x_train = np.expand_dims(x_train, -1)\n",
        "x_test = np.expand_dims(x_test, -1)\n",
        "\n",
        "x_train = x_train.reshape(x_train.shape[0], 784)\n",
        "x_test = x_test.reshape(x_test.shape[0], 784)\n",
        "y_train = y_train.reshape(y_train.shape[0], 1)\n",
        "y_test = y_test.reshape(y_test.shape[0], 1)\n",
        "\n",
        "NUM_TRAIN_SAMPLES = x_train.shape[0]\n",
        "NUM_TEST_SAMPLES = x_test.shape[0]\n",
        "\n",
        "print(\"Train samples: {} {}\".format(x_train.shape, y_train.shape))\n",
        "print(\"Test samples: {} {}\".format(x_test.shape, y_test.shape))\n",
        "\n",
        "# We conduct all the evaluation on a *small subset* of the test data\n",
        "EVAL_SUBSET_SIZE = 100\n",
        "eval_ids = np.random.randint(NUM_TEST_SAMPLES, size=EVAL_SUBSET_SIZE)\n",
        "x_test = x_test[eval_ids,:]\n",
        "y_test = y_test[eval_ids,:]\n",
        "\n",
        "print(\"Evaluation set: {}\".format(x_test.shape))\n",
        "\n",
        "NUM_TRAIN_SAMPLES = x_train.shape[0]\n",
        "NUM_TEST_SAMPLES = x_test.shape[0]\n",
        "y_train = y_train.ravel()\n",
        "y_test = y_test.ravel()\n",
        "\n",
        "print(\"Train samples: {} {}\".format(x_train.shape, y_train.shape))\n",
        "print(\"Test samples: {} {}\".format(x_test.shape, y_test.shape))"
      ],
      "metadata": {
        "colab": {
          "base_uri": "https://localhost:8080/",
          "height": 554
        },
        "id": "s5WQjSG5-rvo",
        "outputId": "f48d946b-d45c-468f-dabd-872b9a443aaf"
      },
      "execution_count": 1,
      "outputs": [
        {
          "output_type": "stream",
          "name": "stdout",
          "text": [
            "Downloading data from https://storage.googleapis.com/tensorflow/tf-keras-datasets/mnist.npz\n",
            "11490434/11490434 [==============================] - 1s 0us/step\n"
          ]
        },
        {
          "output_type": "display_data",
          "data": {
            "text/plain": [
              "<Figure size 640x480 with 9 Axes>"
            ],
            "image/png": "[encoded data removed]"
          },
          "metadata": {}
        },
        {
          "output_type": "stream",
          "name": "stdout",
          "text": [
            "Train samples: (60000, 784) (60000, 1)\n",
            "Test samples: (10000, 784) (10000, 1)\n",
            "Evaluation set: (100, 784)\n",
            "Train samples: (60000, 784) (60000,)\n",
            "Test samples: (100, 784) (100,)\n"
          ]
        }
      ]
    },
    {
      "cell_type": "markdown",
      "source": [
        "#### Learning with noisy labels\n",
        "\n",
        "To demonstrate the necessity of the adaptive approach, we simulate noisy data by introducing the common mistakes.\n",
        "For instance, we randomly change 3-->8, 8-->3, 1-->{4, 7}, 5-->6 etc.\n",
        "\n",
        "The amount of noise injected as a part of this stochastic process is controlled by the paramater **noise_probability** ($\\in [0, 1]$).\n"
      ],
      "metadata": {
        "id": "kP28ZG1s_R3E"
      }
    },
    {
      "cell_type": "code",
      "source": [
        "import random\n",
        "noise_probability = 0.7\n",
        "\n",
        "def corrupt_label(y, err):\n",
        "    found = np.where(err == y)\n",
        "    if len(found) > 0:\n",
        "        # select an element at random (index != found)\n",
        "        noisy_label = random.choice(err)\n",
        "        while noisy_label == y:\n",
        "            noisy_label = random.choice(err)\n",
        "        return noisy_label\n",
        "    return y\n",
        "\n",
        "# We corrupt the MNIST data with some common mistakes, such as 3-->8, 8-->3, 1-->{4, 7}, 5-->6 etc.\n",
        "def corrupt_labels(y_train, noise_probability):\n",
        "    num_samples = y_train.shape[0]\n",
        "    err_es_1 = np.array([0, 2, 3, 5, 6, 8, 9])\n",
        "    err_es_2 = np.array([1, 4, 7])\n",
        "\n",
        "    corruptions = {}\n",
        "    corrupted_indexes = {}\n",
        "\n",
        "    for i in range(num_samples):\n",
        "        p = random.random()\n",
        "\n",
        "        if p < noise_probability:\n",
        "            y = y_train[i]\n",
        "            y_noisy = corrupt_label(y, err_es_1)\n",
        "            if y_noisy == y:\n",
        "                y_noisy = corrupt_label(y, err_es_2)\n",
        "\n",
        "            key = str(y_train[i]) + '->' + str(y_noisy)\n",
        "            corrupted_indexes[i] = i\n",
        "\n",
        "            if key in corruptions:\n",
        "                corruptions[key] += 1\n",
        "            else:\n",
        "                corruptions[key] = 0\n",
        "\n",
        "            y_train[i] = y_noisy\n",
        "\n",
        "    return corruptions, corrupted_indexes\n",
        "\n",
        "corruptions, corrupted_indexes = corrupt_labels(y_train, noise_probability)\n",
        "print (\"Corruptions: \" + str(corruptions))\n",
        "print (\"Corrupted indexes: {}\".format(list(corrupted_indexes.keys())[0:10]))\n"
      ],
      "metadata": {
        "id": "_gQF7tFB-7qr",
        "colab": {
          "base_uri": "https://localhost:8080/"
        },
        "outputId": "ee3c2beb-de8c-4a10-8ab2-9e0afdc03d7e"
      },
      "execution_count": 2,
      "outputs": [
        {
          "output_type": "stream",
          "name": "stdout",
          "text": [
            "Corruptions: {'5->8': 658, '0->3': 694, '4->2': 645, '9->2': 739, '1->6': 692, '4->8': 548, '3->5': 720, '6->3': 709, '7->9': 620, '2->6': 686, '8->6': 695, '6->8': 714, '9->3': 699, '4->6': 567, '1->0': 675, '2->0': 751, '2->5': 700, '3->0': 722, '9->0': 688, '0->9': 654, '5->2': 639, '0->5': 724, '6->0': 718, '1->5': 645, '8->3': 761, '7->5': 624, '9->8': 675, '9->6': 732, '3->2': 737, '7->0': 609, '4->3': 570, '8->2': 684, '1->9': 672, '4->0': 587, '6->5': 694, '0->2': 704, '4->5': 571, '5->3': 641, '1->8': 732, '7->2': 656, '0->6': 675, '2->3': 677, '3->8': 699, '4->9': 622, '6->2': 688, '7->8': 595, '8->5': 657, '7->6': 629, '1->3': 661, '3->9': 736, '2->8': 681, '3->6': 704, '2->9': 658, '8->9': 639, '6->9': 694, '1->2': 700, '9->5': 668, '5->9': 618, '5->6': 648, '5->0': 646, '7->3': 668, '0->8': 667, '8->0': 692}\n",
            "Corrupted indexes: [0, 1, 2, 4, 8, 9, 12, 13, 15, 16]\n"
          ]
        }
      ]
    },
    {
      "cell_type": "markdown",
      "source": [
        "### Standard K-NN on this noisy data\n",
        "\n",
        "We now execute static k-NN on this noisy data. The effectiveness of the classifier is very poor (for your own understanding, try to see why; note that answering this is not an actionable item and hence isn't graded)."
      ],
      "metadata": {
        "id": "4QxFM4BK_cUR"
      }
    },
    {
      "cell_type": "code",
      "source": [
        "K = 3\n",
        "\n",
        "from sklearn.metrics import accuracy_score\n",
        "from sklearn.neighbors import KNeighborsClassifier\n",
        "model = KNeighborsClassifier(n_neighbors=K)\n",
        "model.fit(x_train, y_train)\n",
        "\n",
        "print (\"{}-NN model fitted\".format(K))\n",
        "\n",
        "y_preds = model.predict(x_test)\n",
        "print (\"K-NN model accuracy with k={}: {:.4f}\".format(K, accuracy_score(y_test, y_preds)))"
      ],
      "metadata": {
        "colab": {
          "base_uri": "https://localhost:8080/"
        },
        "id": "I8SaJ0Wf_c6-",
        "outputId": "932a987e-ede9-4896-aa9e-6c2af8cc7409"
      },
      "execution_count": 3,
      "outputs": [
        {
          "output_type": "stream",
          "name": "stdout",
          "text": [
            "3-NN model fitted\n",
            "K-NN model accuracy with k=3: 0.2700\n"
          ]
        }
      ]
    },
    {
      "cell_type": "markdown",
      "source": [
        "We now would implement a simple unsupervised (heuristic-based) method to predict if we need a large or a small value of $k$ for a correct classification. Recall from the lecture notes that a dense neighborhood perhaps would be better served with a large value of $k$, whereas a relatively less compact neighborhood may do well with a small $k$. A sample function to estimate the quality of a neighborhood is the variance of the distances of the neighborhood points, i.e.,\n",
        "\n",
        "$$\\phi(N_k(\\mathbf{x})) = \\sum_{z \\in N_k(\\mathbf{x})} (d(\\mathbf{x},\\mathbf{z}) - \\mu)^2, \\text{where}\\,\\,\\,\\,\\mu=\\sum_{z \\in N_k(\\mathbf{x})} d(\\mathbf{x},\\mathbf{z}).$$\n",
        "\n",
        "Notations:\n",
        " * $\\mathbf{x}$: A data instance for inference.\n",
        " * $N_k(\\mathbf{x})$: A neighborhood of size $k$ around the data instance for inference.\n",
        " * $d(\\mathbf{x},\\mathbf{z})$: Distance (Euclidean or cosine or any other) between the test point $\\mathbf{x}$ and a training point $\\mathbf{z}$.\n",
        " * $\\mu$: The average of the distances of the neighboring training points from the test point.   \n",
        "\n",
        "\n",
        "Again for your own understanding, try to see wheether it makes sense to argue that the higher the variance, the less compact is the neighborhood, and perhaps we want a smaller $k$ for such ones? (no actionable item and no grading for finding this answer)\n",
        "\n",
        "Our task is now to write the function *predict_k_values_unsupervised*."
      ],
      "metadata": {
        "id": "D8iY-JKl_ib8"
      }
    },
    {
      "cell_type": "code",
      "source": [
        "import math\n",
        "\n",
        "# Takes the test set and an index of nearest neighbors.\n",
        "# Iterates over each point, computes the variance of distances, scales that into the range [1, MAX_K]\n",
        "# and returns a list of adaptively chosen K values (one for each instance).\n",
        "def predict_k_values_unsupervised(x_test, nn_index):\n",
        "    n = x_test.shape[0]\n",
        "    variances = []\n",
        "    for i in range(n):\n",
        "        x = x_test[i]\n",
        "        distances, ids = nn_index.kneighbors([x], return_distance=True)\n",
        "        variances.append(np.var(distances))\n",
        "\n",
        "    min_v = min(variances)\n",
        "    max_v = max(variances)\n",
        "\n",
        "    k_values = [1 + math.floor((MAX_K-1) * (float(var) - min_v)/(max_v - min_v)) for var in variances]\n",
        "    return k_values"
      ],
      "metadata": {
        "id": "MZtwR_27_sKH"
      },
      "execution_count": 4,
      "outputs": []
    },
    {
      "cell_type": "code",
      "source": [
        "# For adaptively choosing $k$ we need to set an upper bound (the lower bound being 1).\n",
        "MAX_K = 20\n",
        "\n",
        "from sklearn.neighbors import NearestNeighbors\n",
        "\n",
        "def adaptive_knn(x_test, y_test):\n",
        "\n",
        "    # Build the index so that we retrieve the neighborhoods faster\n",
        "    nn_index = NearestNeighbors(n_neighbors=MAX_K).fit(x_train)\n",
        "\n",
        "    print (\"{}-NN index built\".format(MAX_K))\n",
        "\n",
        "    # Dynamic k workflow\n",
        "    k_values = predict_k_values_unsupervised(x_test, nn_index)\n",
        "    y_preds = []\n",
        "\n",
        "    for i in range(len(x_test)):\n",
        "        k = k_values[i]\n",
        "\n",
        "        #print (\"Predicting with nn-size = {}\".format(k))\n",
        "        x = x_test[i]\n",
        "        distances, ids = nn_index.kneighbors([x])\n",
        "        ids = ids.flatten()\n",
        "\n",
        "        ids = ids[:k] # take the first k (out of MAX_K)\n",
        "        nn_labels = []\n",
        "        for x_id in ids:\n",
        "            nn_labels.append(y_train[x_id])\n",
        "\n",
        "        y_pred = max(set(nn_labels), key=nn_labels.count)\n",
        "        y_preds.append(y_pred)\n",
        "\n",
        "    accuracy = accuracy_score(y_test, y_preds)\n",
        "    return accuracy"
      ],
      "metadata": {
        "id": "0gAwOBwO_tc6"
      },
      "execution_count": 5,
      "outputs": []
    },
    {
      "cell_type": "code",
      "source": [],
      "metadata": {
        "id": "A7qOhFSuYh3u"
      },
      "execution_count": 5,
      "outputs": []
    },
    {
      "cell_type": "code",
      "source": [
        "accuracy = adaptive_knn(x_test, y_test)\n",
        "print (\"Adaptive K-NN model accuracy: {:.4f}\".format(accuracy))"
      ],
      "metadata": {
        "colab": {
          "base_uri": "https://localhost:8080/",
          "height": 390
        },
        "id": "h7qLhANG_ylT",
        "outputId": "0124562c-f07b-492c-9391-b87852470e0b"
      },
      "execution_count": 6,
      "outputs": [
        {
          "output_type": "stream",
          "name": "stdout",
          "text": [
            "20-NN index built\n"
          ]
        },
        {
          "output_type": "error",
          "ename": "KeyboardInterrupt",
          "evalue": "ignored",
          "traceback": [
            "\u001b[0;31m---------------------------------------------------------------------------\u001b[0m",
            "\u001b[0;31mKeyboardInterrupt\u001b[0m                         Traceback (most recent call last)",
            "\u001b[0;32m<ipython-input-6-bb960b6f5f16>\u001b[0m in \u001b[0;36m<cell line: 1>\u001b[0;34m()\u001b[0m\n\u001b[0;32m----> 1\u001b[0;31m \u001b[0maccuracy\u001b[0m \u001b[0;34m=\u001b[0m \u001b[0madaptive_knn\u001b[0m\u001b[0;34m(\u001b[0m\u001b[0mx_test\u001b[0m\u001b[0;34m,\u001b[0m \u001b[0my_test\u001b[0m\u001b[0;34m)\u001b[0m\u001b[0;34m\u001b[0m\u001b[0;34m\u001b[0m\u001b[0m\n\u001b[0m\u001b[1;32m      2\u001b[0m \u001b[0mprint\u001b[0m \u001b[0;34m(\u001b[0m\u001b[0;34m\"Adaptive K-NN model accuracy: {:.4f}\"\u001b[0m\u001b[0;34m.\u001b[0m\u001b[0mformat\u001b[0m\u001b[0;34m(\u001b[0m\u001b[0maccuracy\u001b[0m\u001b[0;34m)\u001b[0m\u001b[0;34m)\u001b[0m\u001b[0;34m\u001b[0m\u001b[0;34m\u001b[0m\u001b[0m\n",
            "\u001b[0;32m<ipython-input-5-3060c7954d77>\u001b[0m in \u001b[0;36madaptive_knn\u001b[0;34m(x_test, y_test)\u001b[0m\n\u001b[1;32m     20\u001b[0m         \u001b[0;31m#print (\"Predicting with nn-size = {}\".format(k))\u001b[0m\u001b[0;34m\u001b[0m\u001b[0;34m\u001b[0m\u001b[0m\n\u001b[1;32m     21\u001b[0m         \u001b[0mx\u001b[0m \u001b[0;34m=\u001b[0m \u001b[0mx_test\u001b[0m\u001b[0;34m[\u001b[0m\u001b[0mi\u001b[0m\u001b[0;34m]\u001b[0m\u001b[0;34m\u001b[0m\u001b[0;34m\u001b[0m\u001b[0m\n\u001b[0;32m---> 22\u001b[0;31m         \u001b[0mdistances\u001b[0m\u001b[0;34m,\u001b[0m \u001b[0mids\u001b[0m \u001b[0;34m=\u001b[0m \u001b[0mnn_index\u001b[0m\u001b[0;34m.\u001b[0m\u001b[0mkneighbors\u001b[0m\u001b[0;34m(\u001b[0m\u001b[0;34m[\u001b[0m\u001b[0mx\u001b[0m\u001b[0;34m]\u001b[0m\u001b[0;34m)\u001b[0m\u001b[0;34m\u001b[0m\u001b[0;34m\u001b[0m\u001b[0m\n\u001b[0m\u001b[1;32m     23\u001b[0m         \u001b[0mids\u001b[0m \u001b[0;34m=\u001b[0m \u001b[0mids\u001b[0m\u001b[0;34m.\u001b[0m\u001b[0mflatten\u001b[0m\u001b[0;34m(\u001b[0m\u001b[0;34m)\u001b[0m\u001b[0;34m\u001b[0m\u001b[0;34m\u001b[0m\u001b[0m\n\u001b[1;32m     24\u001b[0m \u001b[0;34m\u001b[0m\u001b[0m\n",
            "\u001b[0;32m/usr/local/lib/python3.10/dist-packages/sklearn/neighbors/_base.py\u001b[0m in \u001b[0;36mkneighbors\u001b[0;34m(self, X, n_neighbors, return_distance)\u001b[0m\n\u001b[1;32m    822\u001b[0m         )\n\u001b[1;32m    823\u001b[0m         \u001b[0;32mif\u001b[0m \u001b[0muse_pairwise_distances_reductions\u001b[0m\u001b[0;34m:\u001b[0m\u001b[0;34m\u001b[0m\u001b[0;34m\u001b[0m\u001b[0m\n\u001b[0;32m--> 824\u001b[0;31m             results = ArgKmin.compute(\n\u001b[0m\u001b[1;32m    825\u001b[0m                 \u001b[0mX\u001b[0m\u001b[0;34m=\u001b[0m\u001b[0mX\u001b[0m\u001b[0;34m,\u001b[0m\u001b[0;34m\u001b[0m\u001b[0;34m\u001b[0m\u001b[0m\n\u001b[1;32m    826\u001b[0m                 \u001b[0mY\u001b[0m\u001b[0;34m=\u001b[0m\u001b[0mself\u001b[0m\u001b[0;34m.\u001b[0m\u001b[0m_fit_X\u001b[0m\u001b[0;34m,\u001b[0m\u001b[0;34m\u001b[0m\u001b[0;34m\u001b[0m\u001b[0m\n",
            "\u001b[0;32m/usr/local/lib/python3.10/dist-packages/sklearn/metrics/_pairwise_distances_reduction/_dispatcher.py\u001b[0m in \u001b[0;36mcompute\u001b[0;34m(cls, X, Y, k, metric, chunk_size, metric_kwargs, strategy, return_distance)\u001b[0m\n\u001b[1;32m    287\u001b[0m \u001b[0;34m\u001b[0m\u001b[0m\n\u001b[1;32m    288\u001b[0m         \u001b[0;32mif\u001b[0m \u001b[0mX\u001b[0m\u001b[0;34m.\u001b[0m\u001b[0mdtype\u001b[0m \u001b[0;34m==\u001b[0m \u001b[0mY\u001b[0m\u001b[0;34m.\u001b[0m\u001b[0mdtype\u001b[0m \u001b[0;34m==\u001b[0m \u001b[0mnp\u001b[0m\u001b[0;34m.\u001b[0m\u001b[0mfloat32\u001b[0m\u001b[0;34m:\u001b[0m\u001b[0;34m\u001b[0m\u001b[0;34m\u001b[0m\u001b[0m\n\u001b[0;32m--> 289\u001b[0;31m             return ArgKmin32.compute(\n\u001b[0m\u001b[1;32m    290\u001b[0m                 \u001b[0mX\u001b[0m\u001b[0;34m=\u001b[0m\u001b[0mX\u001b[0m\u001b[0;34m,\u001b[0m\u001b[0;34m\u001b[0m\u001b[0;34m\u001b[0m\u001b[0m\n\u001b[1;32m    291\u001b[0m                 \u001b[0mY\u001b[0m\u001b[0;34m=\u001b[0m\u001b[0mY\u001b[0m\u001b[0;34m,\u001b[0m\u001b[0;34m\u001b[0m\u001b[0;34m\u001b[0m\u001b[0m\n",
            "\u001b[0;32msklearn/metrics/_pairwise_distances_reduction/_argkmin.pyx\u001b[0m in \u001b[0;36msklearn.metrics._pairwise_distances_reduction._argkmin.ArgKmin32.compute\u001b[0;34m()\u001b[0m\n",
            "\u001b[0;32m/usr/local/lib/python3.10/dist-packages/threadpoolctl.py\u001b[0m in \u001b[0;36m__exit__\u001b[0;34m(self, type, value, traceback)\u001b[0m\n\u001b[1;32m    438\u001b[0m         \u001b[0;32mreturn\u001b[0m \u001b[0mself\u001b[0m\u001b[0;34m\u001b[0m\u001b[0;34m\u001b[0m\u001b[0m\n\u001b[1;32m    439\u001b[0m \u001b[0;34m\u001b[0m\u001b[0m\n\u001b[0;32m--> 440\u001b[0;31m     \u001b[0;32mdef\u001b[0m \u001b[0m__exit__\u001b[0m\u001b[0;34m(\u001b[0m\u001b[0mself\u001b[0m\u001b[0;34m,\u001b[0m \u001b[0mtype\u001b[0m\u001b[0;34m,\u001b[0m \u001b[0mvalue\u001b[0m\u001b[0;34m,\u001b[0m \u001b[0mtraceback\u001b[0m\u001b[0;34m)\u001b[0m\u001b[0;34m:\u001b[0m\u001b[0;34m\u001b[0m\u001b[0;34m\u001b[0m\u001b[0m\n\u001b[0m\u001b[1;32m    441\u001b[0m         \u001b[0mself\u001b[0m\u001b[0;34m.\u001b[0m\u001b[0mrestore_original_limits\u001b[0m\u001b[0;34m(\u001b[0m\u001b[0;34m)\u001b[0m\u001b[0;34m\u001b[0m\u001b[0;34m\u001b[0m\u001b[0m\n\u001b[1;32m    442\u001b[0m \u001b[0;34m\u001b[0m\u001b[0m\n",
            "\u001b[0;31mKeyboardInterrupt\u001b[0m: "
          ]
        }
      ]
    },
    {
      "cell_type": "code",
      "source": [],
      "metadata": {
        "id": "ZaSlSDtvcKpR"
      },
      "execution_count": null,
      "outputs": []
    },
    {
      "cell_type": "markdown",
      "source": [
        "#### Tasks: Investigate if we can do better than the heuristics.\n",
        "\n",
        "We now seek to learn a function of the form $\\theta: \\mathbf{x} \\mapsto \\mathbb{Z}_k$ (e.g., via $k$-class softmax regression or an SVM or any other parametric classifier).\n",
        "\n",
        "**Task 1 (30 marks)**: Replace the function *predict_k_values_unsupervised* with another function *predict_k_values_supervised* which will do the following:\n",
        "- Learn a mapping between a data instance from the training set and the smallest value of $k$ that results in correct predictions for that instance. In your report, clearly describe how do you train this classifier (e.g., what are the ground-truth y values for each training data point $\\mathbf{x} \\in S_{train}$.    \n",
        "- Apply this paramateric model to *predict* the value of $k$ at inference time (for this you just need to replace the call to **predict_k_values_unsupervised** inside **adaptive_knn** with your implemented method).\n",
        "\n",
        "**Task 2 (30 marks)**: Compare the performance of your implemented supervised approach vs. the baseline (unsupervised one) for different simulated datasets with varying amounts of noise. Make a plot with *noise_probability* on the x-axis and accuracy on the y-axis for 11 different values - {0, 0.1, ... 0.9, 1}.\n",
        "\n",
        "**Task 3 (40 marks)**: Write a commentary on the observations reflecting on your approach (e.g., on the assumptions you make, on the hyper-parameter choices for your method etc.) and figuring out **when and why it works** (e.g., for what hyper-parameter settings), and **when and why it doesn't**.\n",
        "  - 3(a): Clear description of the assumptions, the experiment settings (e.g., different levels of noises) and hyper-parameters of your approach (e.g., learning rate or regularisation constant of softmax regression) (10 marks).\n",
        "  - 3(b): Sensitivity analysis of the hyper-parameters (ideally should be demonsrated with plots of results) (15 marks).\n",
        "  - 3(c): Your observations and conclusions on per-instance error analysis, e.g., what happens in different types (different levels of compactness or homogeneity) of neighborhoods (15 marks).\n"
      ],
      "metadata": {
        "id": "WIsAcfjE_2yU"
      }
    },
    {
      "cell_type": "markdown",
      "source": [
        "\n",
        "\n",
        "\n",
        "---\n",
        "\n",
        "*Task 1: *\n",
        "\n",
        "- gen_k_vals is a function that finds the minimuk value of k for each x instance that will result in a correct prediction of y\n",
        "- it is quite slow... not ideal\n",
        "- however, as we are creating a supervised approach, we need to create a training dataset for the k values\n",
        "- it feels inefficient to do this sort of this when the true values won't actually be used, instead a model predicting the values will be used. HOWEVER, obviosuly it does make sense as we want our model to generalise outside of the training and test data"
      ],
      "metadata": {
        "id": "O85LUfcWykL-"
      }
    },
    {
      "cell_type": "code",
      "source": [
        "# Retry: Finding k truth values\n",
        "\n",
        "# For adaptively choosing $k$ we need to set an upper bound (the lower bound being 1).\n",
        "MAX_K = 20\n",
        "\n",
        "from sklearn.neighbors import NearestNeighbors\n",
        "\n",
        "def gen_k_vals(x_test, y_test):\n",
        "\n",
        "    # Build the index so that we retrieve the neighborhoods faster\n",
        "    nn_index = NearestNeighbors(n_neighbors=MAX_K).fit(x_train)\n",
        "\n",
        "    print (\"{}-NN index built\".format(MAX_K))\n",
        "    k_values = []\n",
        "\n",
        "    for i in range(len(x_test)):\n",
        "        if (i%100)==0:\n",
        "          print(\"x value\", i)\n",
        "        k = 0\n",
        "        correct = False\n",
        "\n",
        "        x = x_test[i]\n",
        "        y = y_test[i]\n",
        "\n",
        "        #print (\"Predicting with nn-size = {}\".format(k))\n",
        "        distances, ids = nn_index.kneighbors([x])\n",
        "        ids = ids.flatten()\n",
        "\n",
        "        ids = ids[:MAX_K] # take the first k (out of MAX_K)\n",
        "        nn_labels = []\n",
        "        for x_id in ids:\n",
        "            nn_labels.append(y_train[x_id])\n",
        "\n",
        "        while not correct and k<MAX_K:\n",
        "          k += 1\n",
        "          y_pred = max(set(nn_labels[:k]), key=nn_labels[:k].count)\n",
        "          correct = (y_pred == y)\n",
        "        print(k)\n",
        "\n",
        "        k_values.append(k)\n",
        "    return k_values"
      ],
      "metadata": {
        "id": "E5PCvZPPYi2m"
      },
      "execution_count": null,
      "outputs": []
    },
    {
      "cell_type": "code",
      "source": [
        "# The code is too slow to generate k_train from all of the training data\n",
        "k_test = gen_k_vals(x_test, y_test)\n",
        "print(k_test)"
      ],
      "metadata": {
        "id": "xiFKeoWgcLmR"
      },
      "execution_count": null,
      "outputs": []
    },
    {
      "cell_type": "markdown",
      "source": [
        "How can we create k_train if the nearest neighbour model is fitted using k_train? It is producing 1 nearest neighbour and all are having the correct classification. only one result for k. We need to investigate why this is....\n"
      ],
      "metadata": {
        "id": "g6rE0ZRoAoBC"
      }
    },
    {
      "cell_type": "markdown",
      "source": [
        "Task 1: Attempt 1\n",
        "\n",
        "- Use a multinomial logistic regression model with the data\n",
        "- Accuracy not any better than the naive method\n",
        "- HOWEVER: we only used 10% of our training set to train the model. It is not a fair comparison?"
      ],
      "metadata": {
        "id": "sw6MRVUDz-Mu"
      }
    },
    {
      "cell_type": "code",
      "source": [
        "from sklearn.linear_model import LogisticRegression\n",
        "# fit a model using x_train and k_train\n",
        "# model chosen multinomial logistic regression model\n",
        "def predict_k_values_supervised(x_test):\n",
        "\n",
        "  lr_model = LogisticRegression(multi_class='multinomial')\n",
        "  lr_model.fit(x_train[:6000], k_train)\n",
        "\n",
        "  # Predict k values for the test set\n",
        "  k_pred = lr_model.predict(x_test)\n",
        "\n",
        "  # Print or use the predicted k values as needed\n",
        "  return(k_pred)\n"
      ],
      "metadata": {
        "id": "pT2wXGS-pFqZ"
      },
      "execution_count": null,
      "outputs": []
    },
    {
      "cell_type": "code",
      "source": [
        "# For adaptively choosing $k$ we need to set an upper bound (the lower bound being 1).\n",
        "MAX_K = 20\n",
        "\n",
        "from sklearn.neighbors import NearestNeighbors\n",
        "\n",
        "def adaptive_knn_v1(x_test, y_test):\n",
        "\n",
        "    # Build the index so that we retrieve the neighborhoods faster\n",
        "    nn_index = NearestNeighbors(n_neighbors=MAX_K).fit(x_train)\n",
        "\n",
        "    print (\"{}-NN index built\".format(MAX_K))\n",
        "\n",
        "    # Dynamic k workflow\n",
        "    k_values = predict_k_values_supervised(x_test)\n",
        "    y_preds = []\n",
        "\n",
        "    for i in range(len(x_test)):\n",
        "        k = k_values[i]\n",
        "\n",
        "        #print (\"Predicting with nn-size = {}\".format(k))\n",
        "        x = x_test[i]\n",
        "        distances, ids = nn_index.kneighbors([x])\n",
        "        ids = ids.flatten()\n",
        "\n",
        "        ids = ids[:k] # take the first k (out of MAX_K)\n",
        "        nn_labels = []\n",
        "        for x_id in ids:\n",
        "            nn_labels.append(y_train[x_id])\n",
        "\n",
        "        y_pred = max(set(nn_labels), key=nn_labels.count)\n",
        "        y_preds.append(y_pred)\n",
        "\n",
        "    accuracy = accuracy_score(y_test, y_preds)\n",
        "    return accuracy"
      ],
      "metadata": {
        "id": "NhT8Z7zKv2b_"
      },
      "execution_count": null,
      "outputs": []
    },
    {
      "cell_type": "code",
      "source": [
        "accuracy = adaptive_knn_v1(x_test, y_test)\n",
        "print (\"Adaptive K-NN model accuracy: {:.4f}\".format(accuracy))"
      ],
      "metadata": {
        "id": "qIlDzNjBwAam"
      },
      "execution_count": null,
      "outputs": []
    },
    {
      "cell_type": "code",
      "source": [
        "import numpy as np\n",
        "\n",
        "unique_classes_train = np.unique(k_train)\n",
        "print(\"Unique classes in k_train:\", unique_classes_train)\n",
        "print(k_train)"
      ],
      "metadata": {
        "id": "BPGCRnRw_kb4"
      },
      "execution_count": null,
      "outputs": []
    },
    {
      "cell_type": "code",
      "source": [
        "print(\"x_train shape:\", x_train.shape)\n",
        "print(\"x_test shape:\", x_test.shape)\n",
        "print(\"y_test shape:\", y_test.shape)\n"
      ],
      "metadata": {
        "id": "JXjIrMT64K_P"
      },
      "execution_count": null,
      "outputs": []
    },
    {
      "cell_type": "markdown",
      "source": [
        "Task 1: Attempt 2\n",
        "\n",
        "Use a SVM model with the data"
      ],
      "metadata": {
        "id": "ALo_8_p61kjM"
      }
    },
    {
      "cell_type": "code",
      "source": [
        "from sklearn.svm import SVC\n",
        "def predict_k_values_supervised(x_test):\n",
        "  svc_model = SVC(C=1000, kernel='linear')\n",
        "  svc_model.fit(x_train, k_train)\n",
        "\n",
        "  # Predict k values for the test set\n",
        "  k_pred = svc_model.predict(x_test)\n",
        "  return k_pred"
      ],
      "metadata": {
        "id": "GkFRmd8m2Qda"
      },
      "execution_count": null,
      "outputs": []
    },
    {
      "cell_type": "code",
      "source": [
        "accuracy = adaptive_knn(x_test, y_test)\n",
        "print (\"Adaptive K-NN model accuracy: {:.4f}\".format(accuracy))"
      ],
      "metadata": {
        "id": "n4_hqwBk2uZK"
      },
      "execution_count": null,
      "outputs": []
    },
    {
      "cell_type": "code",
      "source": [
        "def gen_k_ground_truth(x_test, y_test, x_train, y_train, subsample_fraction = 0.1):\n",
        "  # Use a subsample of the training data to build the k-NN index\n",
        "    subsample_size = int(len(x_train) * subsample_fraction)\n",
        "    subsample_indices = np.random.choice(len(x_train), subsample_size, replace=False)\n",
        "    x_train_subsample = x_train[subsample_indices]\n",
        "    y_train_subsample = y_train[subsample_indices]\n",
        "    nn_index = NearestNeighbors(n_neighbors=len(x_train_subsample)).fit(x_train_subsample)\n",
        "\n",
        "    print(\"{}-NN index built with a subsample of {} training instances\".format(len(x_train_subsample), subsample_size))\n",
        "\n",
        "    subsample_size = int(len(x_test) * subsample_fraction)\n",
        "    subsample_indices = np.random.choice(len(x_test), 0.4, replace=False)\n",
        "    x_test_subsample = x_test[subsample_indices]\n",
        "    y_test_subsample = y_test[subsample_indices]\n",
        "\n",
        "    k_values = []\n",
        "    print(len(x_test_subsample))\n",
        "\n",
        "    for i in range(len(x_test_subsample)):\n",
        "\n",
        "\n",
        "        x = x_test_subsample[i]\n",
        "        y = y_test_subsample[i]\n",
        "\n",
        "        distances, ids = nn_index.kneighbors([x])\n",
        "        ids = ids.flatten()\n",
        "\n",
        "        ids = ids[:len(x_train_subsample)]  # take the first k (out of the subsample)\n",
        "        nn_labels = [y_train_subsample[x_id] for x_id in ids]\n",
        "\n",
        "        k = 1\n",
        "        while k < MAX_K:\n",
        "            y_pred = max(set(nn_labels[:k]), key=nn_labels[:k].count)\n",
        "            if y_pred == y:\n",
        "                break\n",
        "            k += 1\n",
        "        if (i % 100) == 0:\n",
        "            print(\"x value\", i)\n",
        "            print(k)\n",
        "        k_values.append(k)\n",
        "\n",
        "    return k_values\n"
      ],
      "metadata": {
        "id": "bfjAqxKz_1mj"
      },
      "execution_count": 7,
      "outputs": []
    },
    {
      "cell_type": "code",
      "source": [
        "k_vals = gen_k_ground_truth(x_test, y_test, x_train, y_train )\n",
        "print(k_vals)"
      ],
      "metadata": {
        "id": "ERIr5ZL5ATUY"
      },
      "execution_count": null,
      "outputs": []
    },
    {
      "cell_type": "code",
      "source": [
        "\n",
        "x_train_k, x_test_k, k_train_k, k_test_k = train_test_split(x_test, k_vals, test_size=0.2, random_state=42)\n",
        "\n",
        "# Train a logistic regression classifier\n",
        "classifier = LogisticRegression(max_iter=1000, random_state=42)\n",
        "classifier.fit(x_train_k, k_train_k)\n",
        "\n",
        "\n"
      ],
      "metadata": {
        "id": "D-51TCT6DjWl"
      },
      "execution_count": null,
      "outputs": []
    },
    {
      "cell_type": "code",
      "source": [
        "from sklearn.model_selection import train_test_split\n",
        "\n",
        "# create subsamples of x_train and y_train for creating ground truth values of k\n",
        "\n",
        "x_train_sub, x_test_sub, y_train_sub, y_test_sub = train_test_split(x_train, y_train, test_size = 0.2, random_state = 42)\n",
        "\n",
        "k_vals = gen_k_ground_truth(x_test_sub, y_test_sub, x_train_sub, y_train_sub)\n",
        "\n",
        "\n"
      ],
      "metadata": {
        "id": "--4V9vDpIZyG"
      },
      "execution_count": null,
      "outputs": []
    },
    {
      "cell_type": "code",
      "source": [
        "x_train_k, x_test_k, k_train_k, k_test_k = train_test_split(x_test_sub, k_vals, test_size=0.2, random_state=42)\n",
        "from sklearn.linear_model import LogisticRegression\n",
        "\n",
        "# Train a logistic regression classifier\n",
        "classifier = LogisticRegression(max_iter=1000, random_state=42)\n",
        "classifier.fit(x_train_k, k_train_k)"
      ],
      "metadata": {
        "colab": {
          "base_uri": "https://localhost:8080/",
          "height": 74
        },
        "id": "OMRXrnLJJsMg",
        "outputId": "5e86aaff-77cd-4862-d92c-006db661c8d8"
      },
      "execution_count": 13,
      "outputs": [
        {
          "output_type": "execute_result",
          "data": {
            "text/plain": [
              "LogisticRegression(max_iter=1000, random_state=42)"
            ],
            "text/html": [
              "<style>#sk-container-id-1 {color: black;background-color: white;}#sk-container-id-1 pre{padding: 0;}#sk-container-id-1 div.sk-toggleable {background-color: white;}#sk-container-id-1 label.sk-toggleable__label {cursor: pointer;display: block;width: 100%;margin-bottom: 0;padding: 0.3em;box-sizing: border-box;text-align: center;}#sk-container-id-1 label.sk-toggleable__label-arrow:before {content: \"▸\";float: left;margin-right: 0.25em;color: #696969;}#sk-container-id-1 label.sk-toggleable__label-arrow:hover:before {color: black;}#sk-container-id-1 div.sk-estimator:hover label.sk-toggleable__label-arrow:before {color: black;}#sk-container-id-1 div.sk-toggleable__content {max-height: 0;max-width: 0;overflow: hidden;text-align: left;background-color: #f0f8ff;}#sk-container-id-1 div.sk-toggleable__content pre {margin: 0.2em;color: black;border-radius: 0.25em;background-color: #f0f8ff;}#sk-container-id-1 input.sk-toggleable__control:checked~div.sk-toggleable__content {max-height: 200px;max-width: 100%;overflow: auto;}#sk-container-id-1 input.sk-toggleable__control:checked~label.sk-toggleable__label-arrow:before {content: \"▾\";}#sk-container-id-1 div.sk-estimator input.sk-toggleable__control:checked~label.sk-toggleable__label {background-color: #d4ebff;}#sk-container-id-1 div.sk-label input.sk-toggleable__control:checked~label.sk-toggleable__label {background-color: #d4ebff;}#sk-container-id-1 input.sk-hidden--visually {border: 0;clip: rect(1px 1px 1px 1px);clip: rect(1px, 1px, 1px, 1px);height: 1px;margin: -1px;overflow: hidden;padding: 0;position: absolute;width: 1px;}#sk-container-id-1 div.sk-estimator {font-family: monospace;background-color: #f0f8ff;border: 1px dotted black;border-radius: 0.25em;box-sizing: border-box;margin-bottom: 0.5em;}#sk-container-id-1 div.sk-estimator:hover {background-color: #d4ebff;}#sk-container-id-1 div.sk-parallel-item::after {content: \"\";width: 100%;border-bottom: 1px solid gray;flex-grow: 1;}#sk-container-id-1 div.sk-label:hover label.sk-toggleable__label {background-color: #d4ebff;}#sk-container-id-1 div.sk-serial::before {content: \"\";position: absolute;border-left: 1px solid gray;box-sizing: border-box;top: 0;bottom: 0;left: 50%;z-index: 0;}#sk-container-id-1 div.sk-serial {display: flex;flex-direction: column;align-items: center;background-color: white;padding-right: 0.2em;padding-left: 0.2em;position: relative;}#sk-container-id-1 div.sk-item {position: relative;z-index: 1;}#sk-container-id-1 div.sk-parallel {display: flex;align-items: stretch;justify-content: center;background-color: white;position: relative;}#sk-container-id-1 div.sk-item::before, #sk-container-id-1 div.sk-parallel-item::before {content: \"\";position: absolute;border-left: 1px solid gray;box-sizing: border-box;top: 0;bottom: 0;left: 50%;z-index: -1;}#sk-container-id-1 div.sk-parallel-item {display: flex;flex-direction: column;z-index: 1;position: relative;background-color: white;}#sk-container-id-1 div.sk-parallel-item:first-child::after {align-self: flex-end;width: 50%;}#sk-container-id-1 div.sk-parallel-item:last-child::after {align-self: flex-start;width: 50%;}#sk-container-id-1 div.sk-parallel-item:only-child::after {width: 0;}#sk-container-id-1 div.sk-dashed-wrapped {border: 1px dashed gray;margin: 0 0.4em 0.5em 0.4em;box-sizing: border-box;padding-bottom: 0.4em;background-color: white;}#sk-container-id-1 div.sk-label label {font-family: monospace;font-weight: bold;display: inline-block;line-height: 1.2em;}#sk-container-id-1 div.sk-label-container {text-align: center;}#sk-container-id-1 div.sk-container {/* jupyter's `normalize.less` sets `[hidden] { display: none; }` but bootstrap.min.css set `[hidden] { display: none !important; }` so we also need the `!important` here to be able to override the default hidden behavior on the sphinx rendered scikit-learn.org. See: https://github.com/scikit-learn/scikit-learn/issues/21755 */display: inline-block !important;position: relative;}#sk-container-id-1 div.sk-text-repr-fallback {display: none;}</style><div id=\"sk-container-id-1\" class=\"sk-top-container\"><div class=\"sk-text-repr-fallback\"><pre>LogisticRegression(max_iter=1000, random_state=42)</pre><b>In a Jupyter environment, please rerun this cell to show the HTML representation or trust the notebook. <br />On GitHub, the HTML representation is unable to render, please try loading this page with nbviewer.org.</b></div><div class=\"sk-container\" hidden><div class=\"sk-item\"><div class=\"sk-estimator sk-toggleable\"><input class=\"sk-toggleable__control sk-hidden--visually\" id=\"sk-estimator-id-1\" type=\"checkbox\" checked><label for=\"sk-estimator-id-1\" class=\"sk-toggleable__label sk-toggleable__label-arrow\">LogisticRegression</label><div class=\"sk-toggleable__content\"><pre>LogisticRegression(max_iter=1000, random_state=42)</pre></div></div></div></div></div>"
            ]
          },
          "metadata": {},
          "execution_count": 13
        }
      ]
    },
    {
      "cell_type": "code",
      "source": [
        "def predict_k_values_unsupervised(x_test):\n",
        "  # Train a logistic regression classifier\n",
        "  classifier = LogisticRegression(max_iter=1000, random_state=42)\n",
        "  classifier.fit(x_train_k, k_train_k)\n",
        "  # Predict k values for the test set\n",
        "  k_pred = classifier.predict(x_test)\n",
        "\n",
        "  # Print or use the predicted k values as needed\n",
        "  return(k_pred)\n",
        "\n",
        "k_vals_LR_pred = predict_k_values_unsupervised(x_test)"
      ],
      "metadata": {
        "id": "JQUf2Z0cJPpy"
      },
      "execution_count": 17,
      "outputs": []
    },
    {
      "cell_type": "code",
      "source": [
        "# For adaptively choosing $k$ we need to set an upper bound (the lower bound being 1).\n",
        "MAX_K = 20\n",
        "\n",
        "from sklearn.neighbors import NearestNeighbors\n",
        "\n",
        "def adaptive_knn_v1(x_test, y_test):\n",
        "\n",
        "    # Build the index so that we retrieve the neighborhoods faster\n",
        "    nn_index = NearestNeighbors(n_neighbors=MAX_K).fit(x_train)\n",
        "\n",
        "    print (\"{}-NN index built\".format(MAX_K))\n",
        "\n",
        "    # Dynamic k workflow\n",
        "    k_values = k_vals_LR_pred\n",
        "    y_preds = []\n",
        "\n",
        "    for i in range(len(x_test)):\n",
        "        k = k_values[i]\n",
        "\n",
        "        #print (\"Predicting with nn-size = {}\".format(k))\n",
        "        x = x_test[i]\n",
        "        distances, ids = nn_index.kneighbors([x])\n",
        "        ids = ids.flatten()\n",
        "\n",
        "        ids = ids[:k] # take the first k (out of MAX_K)\n",
        "        nn_labels = []\n",
        "        for x_id in ids:\n",
        "            nn_labels.append(y_train[x_id])\n",
        "\n",
        "        y_pred = max(set(nn_labels), key=nn_labels.count)\n",
        "        y_preds.append(y_pred)\n",
        "\n",
        "    accuracy = accuracy_score(y_test, y_preds)\n",
        "    return accuracy"
      ],
      "metadata": {
        "id": "_z-60VGV43vd"
      },
      "execution_count": 18,
      "outputs": []
    },
    {
      "cell_type": "code",
      "source": [
        "accuracy = adaptive_knn_v1(x_test, y_test)\n",
        "print (\"Adaptive K-NN model accuracy: {:.4f}\".format(accuracy))"
      ],
      "metadata": {
        "colab": {
          "base_uri": "https://localhost:8080/"
        },
        "id": "7oD6Xu315AIW",
        "outputId": "a33174f4-cdf3-4c53-9607-f0fc0c6e49d1"
      },
      "execution_count": 20,
      "outputs": [
        {
          "output_type": "stream",
          "name": "stdout",
          "text": [
            "20-NN index built\n",
            "Adaptive K-NN model accuracy: 0.5400\n"
          ]
        }
      ]
    },
    {
      "cell_type": "markdown",
      "source": [
        "The model works!!!!"
      ],
      "metadata": {
        "id": "sjHg_I1F5fyo"
      }
    }
  ]
}